{
 "cells": [
  {
   "cell_type": "code",
   "execution_count": 1,
   "metadata": {},
   "outputs": [],
   "source": [
    "from sklearn.linear_model import LogisticRegression\n",
    "from sklearn.model_selection import GridSearchCV\n",
    "from sklearn.svm import SVC\n",
    "from sklearn.preprocessing import StandardScaler"
   ]
  },
  {
   "cell_type": "code",
   "execution_count": 2,
   "metadata": {},
   "outputs": [
    {
     "data": {
      "text/html": [
       "<div>\n",
       "<style scoped>\n",
       "    .dataframe tbody tr th:only-of-type {\n",
       "        vertical-align: middle;\n",
       "    }\n",
       "\n",
       "    .dataframe tbody tr th {\n",
       "        vertical-align: top;\n",
       "    }\n",
       "\n",
       "    .dataframe thead th {\n",
       "        text-align: right;\n",
       "    }\n",
       "</style>\n",
       "<table border=\"1\" class=\"dataframe\">\n",
       "  <thead>\n",
       "    <tr style=\"text-align: right;\">\n",
       "      <th></th>\n",
       "      <th>class</th>\n",
       "      <th>aa_000</th>\n",
       "      <th>ab_000</th>\n",
       "      <th>ac_000</th>\n",
       "      <th>ad_000</th>\n",
       "      <th>ae_000</th>\n",
       "      <th>af_000</th>\n",
       "      <th>ag_000</th>\n",
       "      <th>ag_001</th>\n",
       "      <th>ag_002</th>\n",
       "      <th>...</th>\n",
       "      <th>ee_002</th>\n",
       "      <th>ee_003</th>\n",
       "      <th>ee_004</th>\n",
       "      <th>ee_005</th>\n",
       "      <th>ee_006</th>\n",
       "      <th>ee_007</th>\n",
       "      <th>ee_008</th>\n",
       "      <th>ee_009</th>\n",
       "      <th>ef_000</th>\n",
       "      <th>eg_000</th>\n",
       "    </tr>\n",
       "  </thead>\n",
       "  <tbody>\n",
       "    <tr>\n",
       "      <th>0</th>\n",
       "      <td>neg</td>\n",
       "      <td>76698</td>\n",
       "      <td>na</td>\n",
       "      <td>2130706438</td>\n",
       "      <td>280</td>\n",
       "      <td>0</td>\n",
       "      <td>0</td>\n",
       "      <td>0</td>\n",
       "      <td>0</td>\n",
       "      <td>0</td>\n",
       "      <td>...</td>\n",
       "      <td>1240520</td>\n",
       "      <td>493384</td>\n",
       "      <td>721044</td>\n",
       "      <td>469792</td>\n",
       "      <td>339156</td>\n",
       "      <td>157956</td>\n",
       "      <td>73224</td>\n",
       "      <td>0</td>\n",
       "      <td>0</td>\n",
       "      <td>0</td>\n",
       "    </tr>\n",
       "    <tr>\n",
       "      <th>1</th>\n",
       "      <td>neg</td>\n",
       "      <td>33058</td>\n",
       "      <td>na</td>\n",
       "      <td>0</td>\n",
       "      <td>na</td>\n",
       "      <td>0</td>\n",
       "      <td>0</td>\n",
       "      <td>0</td>\n",
       "      <td>0</td>\n",
       "      <td>0</td>\n",
       "      <td>...</td>\n",
       "      <td>421400</td>\n",
       "      <td>178064</td>\n",
       "      <td>293306</td>\n",
       "      <td>245416</td>\n",
       "      <td>133654</td>\n",
       "      <td>81140</td>\n",
       "      <td>97576</td>\n",
       "      <td>1500</td>\n",
       "      <td>0</td>\n",
       "      <td>0</td>\n",
       "    </tr>\n",
       "    <tr>\n",
       "      <th>2</th>\n",
       "      <td>neg</td>\n",
       "      <td>41040</td>\n",
       "      <td>na</td>\n",
       "      <td>228</td>\n",
       "      <td>100</td>\n",
       "      <td>0</td>\n",
       "      <td>0</td>\n",
       "      <td>0</td>\n",
       "      <td>0</td>\n",
       "      <td>0</td>\n",
       "      <td>...</td>\n",
       "      <td>277378</td>\n",
       "      <td>159812</td>\n",
       "      <td>423992</td>\n",
       "      <td>409564</td>\n",
       "      <td>320746</td>\n",
       "      <td>158022</td>\n",
       "      <td>95128</td>\n",
       "      <td>514</td>\n",
       "      <td>0</td>\n",
       "      <td>0</td>\n",
       "    </tr>\n",
       "    <tr>\n",
       "      <th>3</th>\n",
       "      <td>neg</td>\n",
       "      <td>12</td>\n",
       "      <td>0</td>\n",
       "      <td>70</td>\n",
       "      <td>66</td>\n",
       "      <td>0</td>\n",
       "      <td>10</td>\n",
       "      <td>0</td>\n",
       "      <td>0</td>\n",
       "      <td>0</td>\n",
       "      <td>...</td>\n",
       "      <td>240</td>\n",
       "      <td>46</td>\n",
       "      <td>58</td>\n",
       "      <td>44</td>\n",
       "      <td>10</td>\n",
       "      <td>0</td>\n",
       "      <td>0</td>\n",
       "      <td>0</td>\n",
       "      <td>4</td>\n",
       "      <td>32</td>\n",
       "    </tr>\n",
       "    <tr>\n",
       "      <th>4</th>\n",
       "      <td>neg</td>\n",
       "      <td>60874</td>\n",
       "      <td>na</td>\n",
       "      <td>1368</td>\n",
       "      <td>458</td>\n",
       "      <td>0</td>\n",
       "      <td>0</td>\n",
       "      <td>0</td>\n",
       "      <td>0</td>\n",
       "      <td>0</td>\n",
       "      <td>...</td>\n",
       "      <td>622012</td>\n",
       "      <td>229790</td>\n",
       "      <td>405298</td>\n",
       "      <td>347188</td>\n",
       "      <td>286954</td>\n",
       "      <td>311560</td>\n",
       "      <td>433954</td>\n",
       "      <td>1218</td>\n",
       "      <td>0</td>\n",
       "      <td>0</td>\n",
       "    </tr>\n",
       "  </tbody>\n",
       "</table>\n",
       "<p>5 rows × 171 columns</p>\n",
       "</div>"
      ],
      "text/plain": [
       "  class  aa_000 ab_000      ac_000 ad_000 ae_000 af_000 ag_000 ag_001 ag_002  \\\n",
       "0   neg   76698     na  2130706438    280      0      0      0      0      0   \n",
       "1   neg   33058     na           0     na      0      0      0      0      0   \n",
       "2   neg   41040     na         228    100      0      0      0      0      0   \n",
       "3   neg      12      0          70     66      0     10      0      0      0   \n",
       "4   neg   60874     na        1368    458      0      0      0      0      0   \n",
       "\n",
       "   ...   ee_002  ee_003  ee_004  ee_005  ee_006  ee_007  ee_008 ee_009 ef_000  \\\n",
       "0  ...  1240520  493384  721044  469792  339156  157956   73224      0      0   \n",
       "1  ...   421400  178064  293306  245416  133654   81140   97576   1500      0   \n",
       "2  ...   277378  159812  423992  409564  320746  158022   95128    514      0   \n",
       "3  ...      240      46      58      44      10       0       0      0      4   \n",
       "4  ...   622012  229790  405298  347188  286954  311560  433954   1218      0   \n",
       "\n",
       "  eg_000  \n",
       "0      0  \n",
       "1      0  \n",
       "2      0  \n",
       "3     32  \n",
       "4      0  \n",
       "\n",
       "[5 rows x 171 columns]"
      ]
     },
     "execution_count": 2,
     "metadata": {},
     "output_type": "execute_result"
    }
   ],
   "source": [
    "# Let's load the IDA2016 Challenge dataset\n",
    "import pandas as pd\n",
    "import numpy as np\n",
    "\n",
    "df = pd.read_csv('IDA2016Challenge/aps_failure_training_set.csv')\n",
    "df.head()\n"
   ]
  },
  {
   "cell_type": "code",
   "execution_count": 3,
   "metadata": {},
   "outputs": [],
   "source": [
    "# let's replace all the 'na' with 0.\n",
    "df[df == 'na'] = 0\n",
    "df_us = df"
   ]
  },
  {
   "cell_type": "code",
   "execution_count": null,
   "metadata": {},
   "outputs": [],
   "source": [
    "# let's try some random undersampling.\n",
    "df_pos = df[df['class']=='pos']\n",
    "df_neg = df[df['class']=='neg']\n",
    "df_neg_us = df_neg.sample(10000)\n",
    "df_us = pd.concat((df_pos,df_neg_us))\n",
    "df_us.shape"
   ]
  },
  {
   "cell_type": "code",
   "execution_count": 4,
   "metadata": {},
   "outputs": [
    {
     "name": "stdout",
     "output_type": "stream",
     "text": [
      "X dims = (60000, 170)\n",
      "Y distrib = class\n",
      "neg    59000\n",
      "pos     1000\n",
      "Name: count, dtype: int64\n"
     ]
    }
   ],
   "source": [
    "# extract the features and labels\n",
    "y = df_us['class']\n",
    "X = df_us.drop(columns=['class'])\n",
    "print(\"X dims =\", X.shape)\n",
    "print(\"Y distrib =\", y.value_counts())"
   ]
  },
  {
   "cell_type": "code",
   "execution_count": 5,
   "metadata": {},
   "outputs": [
    {
     "name": "stdout",
     "output_type": "stream",
     "text": [
      "['neg' 'neg' 'neg' ... 'neg' 'neg' 'neg']\n"
     ]
    }
   ],
   "source": [
    "# y.values gets us (N,1) and ravel() gets us (N,) as the shapes.\n",
    "ybin = y.values.ravel()\n",
    "print(ybin)"
   ]
  },
  {
   "cell_type": "code",
   "execution_count": 6,
   "metadata": {},
   "outputs": [],
   "source": [
    "# let's partition the data into train-test splits\n",
    "from sklearn.model_selection import train_test_split\n",
    "Xtrain, Xtest, ytrain, ytest = train_test_split(X, ybin,\n",
    "                                                random_state=42)"
   ]
  },
  {
   "cell_type": "code",
   "execution_count": 7,
   "metadata": {},
   "outputs": [],
   "source": [
    "scaler = StandardScaler()\n",
    "X_train_scaled = scaler.fit_transform(Xtrain.astype(np.float32))\n",
    "X_test_scaled = scaler.transform(Xtest)"
   ]
  },
  {
   "cell_type": "markdown",
   "metadata": {},
   "source": [
    "### Let's build the SVM classifier to get the baseline"
   ]
  },
  {
   "cell_type": "code",
   "execution_count": 34,
   "metadata": {},
   "outputs": [
    {
     "name": "stdout",
     "output_type": "stream",
     "text": [
      "Fitting 5 folds for each of 12 candidates, totalling 60 fits\n",
      "[CV 3/5; 1/12] START C=50, gamma=1e-05..........................................\n",
      "[CV 1/5; 1/12] START C=50, gamma=1e-05..........................................\n",
      "[CV 4/5; 1/12] START C=50, gamma=1e-05..........................................\n",
      "[CV 1/5; 2/12] START C=50, gamma=0.0001.........................................\n",
      "[CV 5/5; 1/12] START C=50, gamma=1e-05..........................................\n",
      "[CV 4/5; 2/12] START C=50, gamma=0.0001.........................................\n",
      "[CV 5/5; 2/12] START C=50, gamma=0.0001.........................................\n",
      "[CV 3/5; 3/12] START C=50, gamma=0.001..........................................\n",
      "[CV 2/5; 1/12] START C=50, gamma=1e-05..........................................\n",
      "[CV 3/5; 2/12] START C=50, gamma=0.0001.........................................\n",
      "[CV 4/5; 3/12] START C=50, gamma=0.001..........................................\n",
      "[CV 1/5; 3/12] START C=50, gamma=0.001..........................................\n",
      "[CV 5/5; 3/12] START C=50, gamma=0.001..........................................\n",
      "[CV 2/5; 2/12] START C=50, gamma=0.0001.........................................\n",
      "[CV 2/5; 3/12] START C=50, gamma=0.001..........................................\n",
      "[CV 1/5; 4/12] START C=100, gamma=1e-05.........................................\n",
      "[CV 2/5; 3/12] END ...........C=50, gamma=0.001;, score=0.989 total time=  56.3s\n",
      "[CV 2/5; 4/12] START C=100, gamma=1e-05.........................................\n",
      "[CV 1/5; 3/12] END ...........C=50, gamma=0.001;, score=0.991 total time= 1.0min\n",
      "[CV 3/5; 4/12] START C=100, gamma=1e-05.........................................\n",
      "[CV 3/5; 3/12] END ...........C=50, gamma=0.001;, score=0.988 total time= 1.2min\n",
      "[CV 4/5; 4/12] START C=100, gamma=1e-05.........................................\n",
      "[CV 4/5; 3/12] END ...........C=50, gamma=0.001;, score=0.990 total time= 1.2min\n",
      "[CV 5/5; 4/12] START C=100, gamma=1e-05.........................................\n",
      "[CV 5/5; 3/12] END ...........C=50, gamma=0.001;, score=0.989 total time= 1.2min\n",
      "[CV 1/5; 5/12] START C=100, gamma=0.0001........................................\n",
      "[CV 2/5; 2/12] END ..........C=50, gamma=0.0001;, score=0.985 total time= 1.5min\n",
      "[CV 2/5; 5/12] START C=100, gamma=0.0001........................................\n",
      "[CV 5/5; 2/12] END ..........C=50, gamma=0.0001;, score=0.987 total time= 1.7min\n",
      "[CV 3/5; 5/12] START C=100, gamma=0.0001........................................\n",
      "[CV 1/5; 2/12] END ..........C=50, gamma=0.0001;, score=0.985 total time= 1.7min\n",
      "[CV 4/5; 5/12] START C=100, gamma=0.0001........................................\n",
      "[CV 4/5; 2/12] END ..........C=50, gamma=0.0001;, score=0.986 total time= 1.8min\n",
      "[CV 5/5; 5/12] START C=100, gamma=0.0001........................................\n",
      "[CV 2/5; 1/12] END ...........C=50, gamma=1e-05;, score=0.979 total time= 1.9min\n",
      "[CV 1/5; 6/12] START C=100, gamma=0.001.........................................\n",
      "[CV 5/5; 1/12] END ...........C=50, gamma=1e-05;, score=0.977 total time= 2.0min\n",
      "[CV 2/5; 6/12] START C=100, gamma=0.001.........................................\n",
      "[CV 3/5; 2/12] END ..........C=50, gamma=0.0001;, score=0.985 total time= 2.0min\n",
      "[CV 3/5; 6/12] START C=100, gamma=0.001.........................................\n",
      "[CV 4/5; 1/12] END ...........C=50, gamma=1e-05;, score=0.979 total time= 2.1min\n",
      "[CV 4/5; 6/12] START C=100, gamma=0.001.........................................\n",
      "[CV 1/5; 4/12] END ..........C=100, gamma=1e-05;, score=0.983 total time= 2.2min\n",
      "[CV 5/5; 6/12] START C=100, gamma=0.001.........................................\n",
      "[CV 1/5; 1/12] END ...........C=50, gamma=1e-05;, score=0.983 total time= 2.3min\n",
      "[CV 1/5; 7/12] START C=500, gamma=1e-05.........................................\n",
      "[CV 3/5; 1/12] END ...........C=50, gamma=1e-05;, score=0.981 total time= 2.4min\n",
      "[CV 2/5; 7/12] START C=500, gamma=1e-05.........................................\n",
      "[CV 2/5; 4/12] END ..........C=100, gamma=1e-05;, score=0.980 total time= 1.6min\n",
      "[CV 3/5; 7/12] START C=500, gamma=1e-05.........................................\n",
      "[CV 2/5; 6/12] END ..........C=100, gamma=0.001;, score=0.989 total time=  49.2s\n",
      "[CV 4/5; 7/12] START C=500, gamma=1e-05.........................................\n",
      "[CV 1/5; 6/12] END ..........C=100, gamma=0.001;, score=0.990 total time=  57.6s\n",
      "[CV 5/5; 7/12] START C=500, gamma=1e-05.........................................\n",
      "[CV 2/5; 5/12] END .........C=100, gamma=0.0001;, score=0.987 total time= 1.5min\n",
      "[CV 1/5; 8/12] START C=500, gamma=0.0001........................................\n",
      "[CV 3/5; 6/12] END ..........C=100, gamma=0.001;, score=0.987 total time=  58.4s\n",
      "[CV 2/5; 8/12] START C=500, gamma=0.0001........................................\n",
      "[CV 1/5; 5/12] END .........C=100, gamma=0.0001;, score=0.987 total time= 1.8min\n",
      "[CV 3/5; 8/12] START C=500, gamma=0.0001........................................\n",
      "[CV 5/5; 4/12] END ..........C=100, gamma=1e-05;, score=0.979 total time= 1.9min\n",
      "[CV 4/5; 8/12] START C=500, gamma=0.0001........................................\n",
      "[CV 3/5; 4/12] END ..........C=100, gamma=1e-05;, score=0.981 total time= 2.2min\n",
      "[CV 5/5; 8/12] START C=500, gamma=0.0001........................................\n",
      "[CV 5/5; 6/12] END ..........C=100, gamma=0.001;, score=0.988 total time= 1.0min\n",
      "[CV 1/5; 9/12] START C=500, gamma=0.001.........................................\n",
      "[CV 4/5; 6/12] END ..........C=100, gamma=0.001;, score=0.990 total time= 1.2min\n",
      "[CV 2/5; 9/12] START C=500, gamma=0.001.........................................\n",
      "[CV 4/5; 4/12] END ..........C=100, gamma=1e-05;, score=0.980 total time= 2.2min\n",
      "[CV 3/5; 9/12] START C=500, gamma=0.001.........................................\n",
      "[CV 5/5; 5/12] END .........C=100, gamma=0.0001;, score=0.987 total time= 1.7min\n",
      "[CV 4/5; 9/12] START C=500, gamma=0.001.........................................\n",
      "[CV 3/5; 5/12] END .........C=100, gamma=0.0001;, score=0.986 total time= 1.9min\n",
      "[CV 5/5; 9/12] START C=500, gamma=0.001.........................................\n",
      "[CV 4/5; 5/12] END .........C=100, gamma=0.0001;, score=0.987 total time= 1.9min\n",
      "[CV 1/5; 10/12] START C=1000, gamma=1e-05.......................................\n",
      "[CV 1/5; 9/12] END ..........C=500, gamma=0.001;, score=0.987 total time=  47.6s\n",
      "[CV 2/5; 10/12] START C=1000, gamma=1e-05.......................................\n",
      "[CV 2/5; 9/12] END ..........C=500, gamma=0.001;, score=0.987 total time=  47.9s\n",
      "[CV 3/5; 10/12] START C=1000, gamma=1e-05.......................................\n",
      "[CV 2/5; 7/12] END ..........C=500, gamma=1e-05;, score=0.981 total time= 1.9min\n",
      "[CV 4/5; 10/12] START C=1000, gamma=1e-05.......................................\n",
      "[CV 3/5; 9/12] END ..........C=500, gamma=0.001;, score=0.987 total time= 1.0min\n",
      "[CV 5/5; 10/12] START C=1000, gamma=1e-05.......................................\n",
      "[CV 4/5; 9/12] END ..........C=500, gamma=0.001;, score=0.987 total time=  53.0s\n",
      "[CV 1/5; 11/12] START C=1000, gamma=0.0001......................................\n",
      "[CV 5/5; 9/12] END ..........C=500, gamma=0.001;, score=0.986 total time=  52.5s\n",
      "[CV 2/5; 11/12] START C=1000, gamma=0.0001......................................\n",
      "[CV 1/5; 7/12] END ..........C=500, gamma=1e-05;, score=0.985 total time= 2.2min\n",
      "[CV 3/5; 11/12] START C=1000, gamma=0.0001......................................\n",
      "[CV 2/5; 8/12] END .........C=500, gamma=0.0001;, score=0.989 total time= 1.6min\n",
      "[CV 4/5; 11/12] START C=1000, gamma=0.0001......................................\n",
      "[CV 1/5; 8/12] END .........C=500, gamma=0.0001;, score=0.989 total time= 1.8min\n",
      "[CV 5/5; 11/12] START C=1000, gamma=0.0001......................................\n",
      "[CV 4/5; 7/12] END ..........C=500, gamma=1e-05;, score=0.982 total time= 2.1min\n",
      "[CV 1/5; 12/12] START C=1000, gamma=0.001.......................................\n",
      "[CV 3/5; 7/12] END ..........C=500, gamma=1e-05;, score=0.982 total time= 2.4min\n",
      "[CV 2/5; 12/12] START C=1000, gamma=0.001.......................................\n",
      "[CV 5/5; 7/12] END ..........C=500, gamma=1e-05;, score=0.983 total time= 2.2min\n",
      "[CV 3/5; 12/12] START C=1000, gamma=0.001.......................................\n",
      "[CV 5/5; 8/12] END .........C=500, gamma=0.0001;, score=0.989 total time= 1.9min\n",
      "[CV 4/5; 12/12] START C=1000, gamma=0.001.......................................\n",
      "[CV 3/5; 8/12] END .........C=500, gamma=0.0001;, score=0.987 total time= 2.1min\n",
      "[CV 5/5; 12/12] START C=1000, gamma=0.001.......................................\n",
      "[CV 4/5; 8/12] END .........C=500, gamma=0.0001;, score=0.988 total time= 2.2min\n",
      "[CV 2/5; 12/12] END ........C=1000, gamma=0.001;, score=0.986 total time=  39.3s\n",
      "[CV 1/5; 12/12] END ........C=1000, gamma=0.001;, score=0.987 total time=  43.5s\n",
      "[CV 1/5; 10/12] END ........C=1000, gamma=1e-05;, score=0.984 total time= 2.2min\n",
      "[CV 2/5; 10/12] END ........C=1000, gamma=1e-05;, score=0.982 total time= 1.8min\n",
      "[CV 4/5; 12/12] END ........C=1000, gamma=0.001;, score=0.986 total time=  48.1s\n",
      "[CV 2/5; 11/12] END .......C=1000, gamma=0.0001;, score=0.989 total time= 1.5min\n",
      "[CV 3/5; 12/12] END ........C=1000, gamma=0.001;, score=0.986 total time=  51.0s\n",
      "[CV 5/5; 12/12] END ........C=1000, gamma=0.001;, score=0.985 total time=  49.7s\n",
      "[CV 1/5; 11/12] END .......C=1000, gamma=0.0001;, score=0.990 total time= 1.6min\n",
      "[CV 5/5; 10/12] END ........C=1000, gamma=1e-05;, score=0.985 total time= 1.7min\n",
      "[CV 3/5; 10/12] END ........C=1000, gamma=1e-05;, score=0.984 total time= 2.0min\n",
      "[CV 5/5; 11/12] END .......C=1000, gamma=0.0001;, score=0.989 total time= 1.4min\n",
      "[CV 3/5; 11/12] END .......C=1000, gamma=0.0001;, score=0.987 total time= 1.5min\n",
      "[CV 4/5; 10/12] END ........C=1000, gamma=1e-05;, score=0.983 total time= 1.9min\n",
      "[CV 4/5; 11/12] END .......C=1000, gamma=0.0001;, score=0.989 total time= 1.5min\n",
      "CPU times: user 22.8 s, sys: 1.6 s, total: 24.4 s\n",
      "Wall time: 6min 28s\n",
      "{'C': 50, 'gamma': 0.001}\n"
     ]
    }
   ],
   "source": [
    "model_rbf = SVC(kernel='rbf')\n",
    "\n",
    "param_grid = {'C': [50, 100, 500, 1000],\n",
    "              'gamma': [1E-5, 0.0001, 0.001]}\n",
    "              #'class_weight': ['balanced', None]}\n",
    "# use -1 to use all the CPUs to perform the grid search.\n",
    "grid_rbf = GridSearchCV(model_rbf, param_grid, n_jobs=-1, verbose=20)\n",
    "\n",
    "sample_weight = [500 if yt == 'pos' else 10 for yt in ytrain]\n",
    "%time grid_rbf.fit(X_train_scaled, ytrain, sample_weight=sample_weight)\n",
    "print(grid_rbf.best_params_)\n"
   ]
  },
  {
   "cell_type": "code",
   "execution_count": 33,
   "metadata": {},
   "outputs": [
    {
     "name": "stdout",
     "output_type": "stream",
     "text": [
      "Fitting 5 folds for each of 4 candidates, totalling 20 fits\n",
      "[CV 1/5; 1/4] START C=50........................................................\n",
      "[CV 4/5; 1/4] START C=50........................................................\n",
      "[CV 3/5; 1/4] START C=50........................................................\n",
      "[CV 2/5; 1/4] START C=50........................................................\n",
      "[CV 1/5; 2/4] START C=100.......................................................\n",
      "[CV 2/5; 2/4] START C=100.......................................................\n",
      "[CV 4/5; 2/4] START C=100.......................................................\n",
      "[CV 5/5; 2/4] START C=100.......................................................\n",
      "[CV 2/5; 3/4] START C=500.......................................................\n",
      "[CV 1/5; 3/4] START C=500.......................................................\n",
      "[CV 5/5; 1/4] START C=50........................................................\n",
      "[CV 3/5; 3/4] START C=500.......................................................\n",
      "[CV 3/5; 2/4] START C=100.......................................................\n",
      "[CV 5/5; 3/4] START C=500.......................................................\n",
      "[CV 1/5; 4/4] START C=1000......................................................\n",
      "[CV 4/5; 3/4] START C=500.......................................................\n"
     ]
    },
    {
     "ename": "KeyboardInterrupt",
     "evalue": "",
     "output_type": "error",
     "traceback": [
      "\u001b[0;31m---------------------------------------------------------------------------\u001b[0m",
      "\u001b[0;31mKeyboardInterrupt\u001b[0m                         Traceback (most recent call last)",
      "File \u001b[0;32m<timed eval>:1\u001b[0m\n",
      "File \u001b[0;32m/store/venv/da5401/lib/python3.10/site-packages/sklearn/base.py:1473\u001b[0m, in \u001b[0;36m_fit_context.<locals>.decorator.<locals>.wrapper\u001b[0;34m(estimator, *args, **kwargs)\u001b[0m\n\u001b[1;32m   1466\u001b[0m     estimator\u001b[38;5;241m.\u001b[39m_validate_params()\n\u001b[1;32m   1468\u001b[0m \u001b[38;5;28;01mwith\u001b[39;00m config_context(\n\u001b[1;32m   1469\u001b[0m     skip_parameter_validation\u001b[38;5;241m=\u001b[39m(\n\u001b[1;32m   1470\u001b[0m         prefer_skip_nested_validation \u001b[38;5;129;01mor\u001b[39;00m global_skip_validation\n\u001b[1;32m   1471\u001b[0m     )\n\u001b[1;32m   1472\u001b[0m ):\n\u001b[0;32m-> 1473\u001b[0m     \u001b[38;5;28;01mreturn\u001b[39;00m \u001b[43mfit_method\u001b[49m\u001b[43m(\u001b[49m\u001b[43mestimator\u001b[49m\u001b[43m,\u001b[49m\u001b[43m \u001b[49m\u001b[38;5;241;43m*\u001b[39;49m\u001b[43margs\u001b[49m\u001b[43m,\u001b[49m\u001b[43m \u001b[49m\u001b[38;5;241;43m*\u001b[39;49m\u001b[38;5;241;43m*\u001b[39;49m\u001b[43mkwargs\u001b[49m\u001b[43m)\u001b[49m\n",
      "File \u001b[0;32m/store/venv/da5401/lib/python3.10/site-packages/sklearn/model_selection/_search.py:1018\u001b[0m, in \u001b[0;36mBaseSearchCV.fit\u001b[0;34m(self, X, y, **params)\u001b[0m\n\u001b[1;32m   1012\u001b[0m     results \u001b[38;5;241m=\u001b[39m \u001b[38;5;28mself\u001b[39m\u001b[38;5;241m.\u001b[39m_format_results(\n\u001b[1;32m   1013\u001b[0m         all_candidate_params, n_splits, all_out, all_more_results\n\u001b[1;32m   1014\u001b[0m     )\n\u001b[1;32m   1016\u001b[0m     \u001b[38;5;28;01mreturn\u001b[39;00m results\n\u001b[0;32m-> 1018\u001b[0m \u001b[38;5;28;43mself\u001b[39;49m\u001b[38;5;241;43m.\u001b[39;49m\u001b[43m_run_search\u001b[49m\u001b[43m(\u001b[49m\u001b[43mevaluate_candidates\u001b[49m\u001b[43m)\u001b[49m\n\u001b[1;32m   1020\u001b[0m \u001b[38;5;66;03m# multimetric is determined here because in the case of a callable\u001b[39;00m\n\u001b[1;32m   1021\u001b[0m \u001b[38;5;66;03m# self.scoring the return type is only known after calling\u001b[39;00m\n\u001b[1;32m   1022\u001b[0m first_test_score \u001b[38;5;241m=\u001b[39m all_out[\u001b[38;5;241m0\u001b[39m][\u001b[38;5;124m\"\u001b[39m\u001b[38;5;124mtest_scores\u001b[39m\u001b[38;5;124m\"\u001b[39m]\n",
      "File \u001b[0;32m/store/venv/da5401/lib/python3.10/site-packages/sklearn/model_selection/_search.py:1572\u001b[0m, in \u001b[0;36mGridSearchCV._run_search\u001b[0;34m(self, evaluate_candidates)\u001b[0m\n\u001b[1;32m   1570\u001b[0m \u001b[38;5;28;01mdef\u001b[39;00m \u001b[38;5;21m_run_search\u001b[39m(\u001b[38;5;28mself\u001b[39m, evaluate_candidates):\n\u001b[1;32m   1571\u001b[0m \u001b[38;5;250m    \u001b[39m\u001b[38;5;124;03m\"\"\"Search all candidates in param_grid\"\"\"\u001b[39;00m\n\u001b[0;32m-> 1572\u001b[0m     \u001b[43mevaluate_candidates\u001b[49m\u001b[43m(\u001b[49m\u001b[43mParameterGrid\u001b[49m\u001b[43m(\u001b[49m\u001b[38;5;28;43mself\u001b[39;49m\u001b[38;5;241;43m.\u001b[39;49m\u001b[43mparam_grid\u001b[49m\u001b[43m)\u001b[49m\u001b[43m)\u001b[49m\n",
      "File \u001b[0;32m/store/venv/da5401/lib/python3.10/site-packages/sklearn/model_selection/_search.py:964\u001b[0m, in \u001b[0;36mBaseSearchCV.fit.<locals>.evaluate_candidates\u001b[0;34m(candidate_params, cv, more_results)\u001b[0m\n\u001b[1;32m    956\u001b[0m \u001b[38;5;28;01mif\u001b[39;00m \u001b[38;5;28mself\u001b[39m\u001b[38;5;241m.\u001b[39mverbose \u001b[38;5;241m>\u001b[39m \u001b[38;5;241m0\u001b[39m:\n\u001b[1;32m    957\u001b[0m     \u001b[38;5;28mprint\u001b[39m(\n\u001b[1;32m    958\u001b[0m         \u001b[38;5;124m\"\u001b[39m\u001b[38;5;124mFitting \u001b[39m\u001b[38;5;132;01m{0}\u001b[39;00m\u001b[38;5;124m folds for each of \u001b[39m\u001b[38;5;132;01m{1}\u001b[39;00m\u001b[38;5;124m candidates,\u001b[39m\u001b[38;5;124m\"\u001b[39m\n\u001b[1;32m    959\u001b[0m         \u001b[38;5;124m\"\u001b[39m\u001b[38;5;124m totalling \u001b[39m\u001b[38;5;132;01m{2}\u001b[39;00m\u001b[38;5;124m fits\u001b[39m\u001b[38;5;124m\"\u001b[39m\u001b[38;5;241m.\u001b[39mformat(\n\u001b[1;32m    960\u001b[0m             n_splits, n_candidates, n_candidates \u001b[38;5;241m*\u001b[39m n_splits\n\u001b[1;32m    961\u001b[0m         )\n\u001b[1;32m    962\u001b[0m     )\n\u001b[0;32m--> 964\u001b[0m out \u001b[38;5;241m=\u001b[39m \u001b[43mparallel\u001b[49m\u001b[43m(\u001b[49m\n\u001b[1;32m    965\u001b[0m \u001b[43m    \u001b[49m\u001b[43mdelayed\u001b[49m\u001b[43m(\u001b[49m\u001b[43m_fit_and_score\u001b[49m\u001b[43m)\u001b[49m\u001b[43m(\u001b[49m\n\u001b[1;32m    966\u001b[0m \u001b[43m        \u001b[49m\u001b[43mclone\u001b[49m\u001b[43m(\u001b[49m\u001b[43mbase_estimator\u001b[49m\u001b[43m)\u001b[49m\u001b[43m,\u001b[49m\n\u001b[1;32m    967\u001b[0m \u001b[43m        \u001b[49m\u001b[43mX\u001b[49m\u001b[43m,\u001b[49m\n\u001b[1;32m    968\u001b[0m \u001b[43m        \u001b[49m\u001b[43my\u001b[49m\u001b[43m,\u001b[49m\n\u001b[1;32m    969\u001b[0m \u001b[43m        \u001b[49m\u001b[43mtrain\u001b[49m\u001b[38;5;241;43m=\u001b[39;49m\u001b[43mtrain\u001b[49m\u001b[43m,\u001b[49m\n\u001b[1;32m    970\u001b[0m \u001b[43m        \u001b[49m\u001b[43mtest\u001b[49m\u001b[38;5;241;43m=\u001b[39;49m\u001b[43mtest\u001b[49m\u001b[43m,\u001b[49m\n\u001b[1;32m    971\u001b[0m \u001b[43m        \u001b[49m\u001b[43mparameters\u001b[49m\u001b[38;5;241;43m=\u001b[39;49m\u001b[43mparameters\u001b[49m\u001b[43m,\u001b[49m\n\u001b[1;32m    972\u001b[0m \u001b[43m        \u001b[49m\u001b[43msplit_progress\u001b[49m\u001b[38;5;241;43m=\u001b[39;49m\u001b[43m(\u001b[49m\u001b[43msplit_idx\u001b[49m\u001b[43m,\u001b[49m\u001b[43m \u001b[49m\u001b[43mn_splits\u001b[49m\u001b[43m)\u001b[49m\u001b[43m,\u001b[49m\n\u001b[1;32m    973\u001b[0m \u001b[43m        \u001b[49m\u001b[43mcandidate_progress\u001b[49m\u001b[38;5;241;43m=\u001b[39;49m\u001b[43m(\u001b[49m\u001b[43mcand_idx\u001b[49m\u001b[43m,\u001b[49m\u001b[43m \u001b[49m\u001b[43mn_candidates\u001b[49m\u001b[43m)\u001b[49m\u001b[43m,\u001b[49m\n\u001b[1;32m    974\u001b[0m \u001b[43m        \u001b[49m\u001b[38;5;241;43m*\u001b[39;49m\u001b[38;5;241;43m*\u001b[39;49m\u001b[43mfit_and_score_kwargs\u001b[49m\u001b[43m,\u001b[49m\n\u001b[1;32m    975\u001b[0m \u001b[43m    \u001b[49m\u001b[43m)\u001b[49m\n\u001b[1;32m    976\u001b[0m \u001b[43m    \u001b[49m\u001b[38;5;28;43;01mfor\u001b[39;49;00m\u001b[43m \u001b[49m\u001b[43m(\u001b[49m\u001b[43mcand_idx\u001b[49m\u001b[43m,\u001b[49m\u001b[43m \u001b[49m\u001b[43mparameters\u001b[49m\u001b[43m)\u001b[49m\u001b[43m,\u001b[49m\u001b[43m \u001b[49m\u001b[43m(\u001b[49m\u001b[43msplit_idx\u001b[49m\u001b[43m,\u001b[49m\u001b[43m \u001b[49m\u001b[43m(\u001b[49m\u001b[43mtrain\u001b[49m\u001b[43m,\u001b[49m\u001b[43m \u001b[49m\u001b[43mtest\u001b[49m\u001b[43m)\u001b[49m\u001b[43m)\u001b[49m\u001b[43m \u001b[49m\u001b[38;5;129;43;01min\u001b[39;49;00m\u001b[43m \u001b[49m\u001b[43mproduct\u001b[49m\u001b[43m(\u001b[49m\n\u001b[1;32m    977\u001b[0m \u001b[43m        \u001b[49m\u001b[38;5;28;43menumerate\u001b[39;49m\u001b[43m(\u001b[49m\u001b[43mcandidate_params\u001b[49m\u001b[43m)\u001b[49m\u001b[43m,\u001b[49m\n\u001b[1;32m    978\u001b[0m \u001b[43m        \u001b[49m\u001b[38;5;28;43menumerate\u001b[39;49m\u001b[43m(\u001b[49m\u001b[43mcv\u001b[49m\u001b[38;5;241;43m.\u001b[39;49m\u001b[43msplit\u001b[49m\u001b[43m(\u001b[49m\u001b[43mX\u001b[49m\u001b[43m,\u001b[49m\u001b[43m \u001b[49m\u001b[43my\u001b[49m\u001b[43m,\u001b[49m\u001b[43m \u001b[49m\u001b[38;5;241;43m*\u001b[39;49m\u001b[38;5;241;43m*\u001b[39;49m\u001b[43mrouted_params\u001b[49m\u001b[38;5;241;43m.\u001b[39;49m\u001b[43msplitter\u001b[49m\u001b[38;5;241;43m.\u001b[39;49m\u001b[43msplit\u001b[49m\u001b[43m)\u001b[49m\u001b[43m)\u001b[49m\u001b[43m,\u001b[49m\n\u001b[1;32m    979\u001b[0m \u001b[43m    \u001b[49m\u001b[43m)\u001b[49m\n\u001b[1;32m    980\u001b[0m \u001b[43m\u001b[49m\u001b[43m)\u001b[49m\n\u001b[1;32m    982\u001b[0m \u001b[38;5;28;01mif\u001b[39;00m \u001b[38;5;28mlen\u001b[39m(out) \u001b[38;5;241m<\u001b[39m \u001b[38;5;241m1\u001b[39m:\n\u001b[1;32m    983\u001b[0m     \u001b[38;5;28;01mraise\u001b[39;00m \u001b[38;5;167;01mValueError\u001b[39;00m(\n\u001b[1;32m    984\u001b[0m         \u001b[38;5;124m\"\u001b[39m\u001b[38;5;124mNo fits were performed. \u001b[39m\u001b[38;5;124m\"\u001b[39m\n\u001b[1;32m    985\u001b[0m         \u001b[38;5;124m\"\u001b[39m\u001b[38;5;124mWas the CV iterator empty? \u001b[39m\u001b[38;5;124m\"\u001b[39m\n\u001b[1;32m    986\u001b[0m         \u001b[38;5;124m\"\u001b[39m\u001b[38;5;124mWere there no candidates?\u001b[39m\u001b[38;5;124m\"\u001b[39m\n\u001b[1;32m    987\u001b[0m     )\n",
      "File \u001b[0;32m/store/venv/da5401/lib/python3.10/site-packages/sklearn/utils/parallel.py:74\u001b[0m, in \u001b[0;36mParallel.__call__\u001b[0;34m(self, iterable)\u001b[0m\n\u001b[1;32m     69\u001b[0m config \u001b[38;5;241m=\u001b[39m get_config()\n\u001b[1;32m     70\u001b[0m iterable_with_config \u001b[38;5;241m=\u001b[39m (\n\u001b[1;32m     71\u001b[0m     (_with_config(delayed_func, config), args, kwargs)\n\u001b[1;32m     72\u001b[0m     \u001b[38;5;28;01mfor\u001b[39;00m delayed_func, args, kwargs \u001b[38;5;129;01min\u001b[39;00m iterable\n\u001b[1;32m     73\u001b[0m )\n\u001b[0;32m---> 74\u001b[0m \u001b[38;5;28;01mreturn\u001b[39;00m \u001b[38;5;28;43msuper\u001b[39;49m\u001b[43m(\u001b[49m\u001b[43m)\u001b[49m\u001b[38;5;241;43m.\u001b[39;49m\u001b[38;5;21;43m__call__\u001b[39;49m\u001b[43m(\u001b[49m\u001b[43miterable_with_config\u001b[49m\u001b[43m)\u001b[49m\n",
      "File \u001b[0;32m/store/venv/da5401/lib/python3.10/site-packages/joblib/parallel.py:2007\u001b[0m, in \u001b[0;36mParallel.__call__\u001b[0;34m(self, iterable)\u001b[0m\n\u001b[1;32m   2001\u001b[0m \u001b[38;5;66;03m# The first item from the output is blank, but it makes the interpreter\u001b[39;00m\n\u001b[1;32m   2002\u001b[0m \u001b[38;5;66;03m# progress until it enters the Try/Except block of the generator and\u001b[39;00m\n\u001b[1;32m   2003\u001b[0m \u001b[38;5;66;03m# reaches the first `yield` statement. This starts the asynchronous\u001b[39;00m\n\u001b[1;32m   2004\u001b[0m \u001b[38;5;66;03m# dispatch of the tasks to the workers.\u001b[39;00m\n\u001b[1;32m   2005\u001b[0m \u001b[38;5;28mnext\u001b[39m(output)\n\u001b[0;32m-> 2007\u001b[0m \u001b[38;5;28;01mreturn\u001b[39;00m output \u001b[38;5;28;01mif\u001b[39;00m \u001b[38;5;28mself\u001b[39m\u001b[38;5;241m.\u001b[39mreturn_generator \u001b[38;5;28;01melse\u001b[39;00m \u001b[38;5;28;43mlist\u001b[39;49m\u001b[43m(\u001b[49m\u001b[43moutput\u001b[49m\u001b[43m)\u001b[49m\n",
      "File \u001b[0;32m/store/venv/da5401/lib/python3.10/site-packages/joblib/parallel.py:1650\u001b[0m, in \u001b[0;36mParallel._get_outputs\u001b[0;34m(self, iterator, pre_dispatch)\u001b[0m\n\u001b[1;32m   1647\u001b[0m     \u001b[38;5;28;01myield\u001b[39;00m\n\u001b[1;32m   1649\u001b[0m     \u001b[38;5;28;01mwith\u001b[39;00m \u001b[38;5;28mself\u001b[39m\u001b[38;5;241m.\u001b[39m_backend\u001b[38;5;241m.\u001b[39mretrieval_context():\n\u001b[0;32m-> 1650\u001b[0m         \u001b[38;5;28;01myield from\u001b[39;00m \u001b[38;5;28mself\u001b[39m\u001b[38;5;241m.\u001b[39m_retrieve()\n\u001b[1;32m   1652\u001b[0m \u001b[38;5;28;01mexcept\u001b[39;00m \u001b[38;5;167;01mGeneratorExit\u001b[39;00m:\n\u001b[1;32m   1653\u001b[0m     \u001b[38;5;66;03m# The generator has been garbage collected before being fully\u001b[39;00m\n\u001b[1;32m   1654\u001b[0m     \u001b[38;5;66;03m# consumed. This aborts the remaining tasks if possible and warn\u001b[39;00m\n\u001b[1;32m   1655\u001b[0m     \u001b[38;5;66;03m# the user if necessary.\u001b[39;00m\n\u001b[1;32m   1656\u001b[0m     \u001b[38;5;28mself\u001b[39m\u001b[38;5;241m.\u001b[39m_exception \u001b[38;5;241m=\u001b[39m \u001b[38;5;28;01mTrue\u001b[39;00m\n",
      "File \u001b[0;32m/store/venv/da5401/lib/python3.10/site-packages/joblib/parallel.py:1762\u001b[0m, in \u001b[0;36mParallel._retrieve\u001b[0;34m(self)\u001b[0m\n\u001b[1;32m   1757\u001b[0m \u001b[38;5;66;03m# If the next job is not ready for retrieval yet, we just wait for\u001b[39;00m\n\u001b[1;32m   1758\u001b[0m \u001b[38;5;66;03m# async callbacks to progress.\u001b[39;00m\n\u001b[1;32m   1759\u001b[0m \u001b[38;5;28;01mif\u001b[39;00m ((\u001b[38;5;28mlen\u001b[39m(\u001b[38;5;28mself\u001b[39m\u001b[38;5;241m.\u001b[39m_jobs) \u001b[38;5;241m==\u001b[39m \u001b[38;5;241m0\u001b[39m) \u001b[38;5;129;01mor\u001b[39;00m\n\u001b[1;32m   1760\u001b[0m     (\u001b[38;5;28mself\u001b[39m\u001b[38;5;241m.\u001b[39m_jobs[\u001b[38;5;241m0\u001b[39m]\u001b[38;5;241m.\u001b[39mget_status(\n\u001b[1;32m   1761\u001b[0m         timeout\u001b[38;5;241m=\u001b[39m\u001b[38;5;28mself\u001b[39m\u001b[38;5;241m.\u001b[39mtimeout) \u001b[38;5;241m==\u001b[39m TASK_PENDING)):\n\u001b[0;32m-> 1762\u001b[0m     \u001b[43mtime\u001b[49m\u001b[38;5;241;43m.\u001b[39;49m\u001b[43msleep\u001b[49m\u001b[43m(\u001b[49m\u001b[38;5;241;43m0.01\u001b[39;49m\u001b[43m)\u001b[49m\n\u001b[1;32m   1763\u001b[0m     \u001b[38;5;28;01mcontinue\u001b[39;00m\n\u001b[1;32m   1765\u001b[0m \u001b[38;5;66;03m# We need to be careful: the job list can be filling up as\u001b[39;00m\n\u001b[1;32m   1766\u001b[0m \u001b[38;5;66;03m# we empty it and Python list are not thread-safe by\u001b[39;00m\n\u001b[1;32m   1767\u001b[0m \u001b[38;5;66;03m# default hence the use of the lock\u001b[39;00m\n",
      "\u001b[0;31mKeyboardInterrupt\u001b[0m: "
     ]
    },
    {
     "ename": "AttributeError",
     "evalue": "'GridSearchCV' object has no attribute 'best_params_'",
     "output_type": "error",
     "traceback": [
      "\u001b[0;31m---------------------------------------------------------------------------\u001b[0m",
      "\u001b[0;31mAttributeError\u001b[0m                            Traceback (most recent call last)",
      "Cell \u001b[0;32mIn[33], line 9\u001b[0m\n\u001b[1;32m      7\u001b[0m sample_weight \u001b[38;5;241m=\u001b[39m [\u001b[38;5;241m500\u001b[39m \u001b[38;5;28;01mif\u001b[39;00m yt \u001b[38;5;241m==\u001b[39m \u001b[38;5;124m'\u001b[39m\u001b[38;5;124mpos\u001b[39m\u001b[38;5;124m'\u001b[39m \u001b[38;5;28;01melse\u001b[39;00m \u001b[38;5;241m10\u001b[39m \u001b[38;5;28;01mfor\u001b[39;00m yt \u001b[38;5;129;01min\u001b[39;00m ytrain]\n\u001b[1;32m      8\u001b[0m get_ipython()\u001b[38;5;241m.\u001b[39mrun_line_magic(\u001b[38;5;124m'\u001b[39m\u001b[38;5;124mtime\u001b[39m\u001b[38;5;124m'\u001b[39m, \u001b[38;5;124m'\u001b[39m\u001b[38;5;124mgrid_lin.fit(X_train_scaled, ytrain, sample_weight=sample_weight)\u001b[39m\u001b[38;5;124m'\u001b[39m)\n\u001b[0;32m----> 9\u001b[0m \u001b[38;5;28mprint\u001b[39m(\u001b[43mgrid_lin\u001b[49m\u001b[38;5;241;43m.\u001b[39;49m\u001b[43mbest_params_\u001b[49m)\n",
      "\u001b[0;31mAttributeError\u001b[0m: 'GridSearchCV' object has no attribute 'best_params_'"
     ]
    }
   ],
   "source": [
    "model_lin = SVC(kernel='linear')\n",
    "\n",
    "param_grid_lin = {'C': [50, 100, 500, 1000]}\n",
    "# use -1 to use all the CPUs to perform the grid search.\n",
    "grid_lin = GridSearchCV(model_lin, param_grid_lin, n_jobs=-1, verbose=20)\n",
    "\n",
    "sample_weight = [500 if yt == 'pos' else 10 for yt in ytrain]\n",
    "%time grid_lin.fit(X_train_scaled, ytrain, sample_weight=sample_weight)\n",
    "print(grid_lin.best_params_)"
   ]
  },
  {
   "cell_type": "code",
   "execution_count": 35,
   "metadata": {},
   "outputs": [],
   "source": [
    "best_model = grid_rbf.best_estimator_\n",
    "\n",
    "model_svc = SVC(kernel='rbf', C=50, gamma=0.001).fit(X_train_scaled, ytrain, sample_weight=sample_weight)\n",
    "\n",
    "yfit = model_svc.predict(X_test_scaled)\n",
    "\n"
   ]
  },
  {
   "cell_type": "code",
   "execution_count": 37,
   "metadata": {},
   "outputs": [
    {
     "name": "stdout",
     "output_type": "stream",
     "text": [
      "Neg Data points: 44254\n",
      "Neg Support Points: 1019\n",
      "Pos Data points: 746\n",
      "Pos Support Points: 435\n"
     ]
    }
   ],
   "source": [
    "print(\"Neg Data points:\", np.sum(ytrain=='neg'))\n",
    "print(\"Neg Support Points:\", np.sum(ytrain[best_model.support_]=='neg'))\n",
    "print(\"Pos Data points:\", np.sum(ytrain=='pos'))\n",
    "print(\"Pos Support Points:\", np.sum(ytrain[best_model.support_]=='pos'))\n"
   ]
  },
  {
   "cell_type": "code",
   "execution_count": 38,
   "metadata": {},
   "outputs": [
    {
     "name": "stdout",
     "output_type": "stream",
     "text": [
      "              precision    recall  f1-score   support\n",
      "\n",
      "         neg       0.99      1.00      0.99     14746\n",
      "         pos       0.71      0.60      0.65       254\n",
      "\n",
      "    accuracy                           0.99     15000\n",
      "   macro avg       0.85      0.80      0.82     15000\n",
      "weighted avg       0.99      0.99      0.99     15000\n",
      "\n"
     ]
    }
   ],
   "source": [
    "from sklearn.metrics import classification_report\n",
    "print(classification_report(ytest, yfit, zero_division=0))"
   ]
  },
  {
   "cell_type": "code",
   "execution_count": 39,
   "metadata": {},
   "outputs": [
    {
     "data": {
      "image/png": "[encoded data removed]",
      "text/plain": [
       "<Figure size 640x480 with 2 Axes>"
      ]
     },
     "metadata": {},
     "output_type": "display_data"
    }
   ],
   "source": [
    "from sklearn.metrics import confusion_matrix\n",
    "import seaborn as sns\n",
    "import matplotlib.pyplot as plt\n",
    "mat = confusion_matrix(ytest, yfit)\n",
    "labels = [\"False\", 'True']\n",
    "\n",
    "sns.heatmap(mat.T, square=True, annot=True, fmt='d',\n",
    "            cbar=True, cmap='Reds',\n",
    "            xticklabels=labels,\n",
    "            yticklabels=labels)\n",
    "plt.xlabel('true label')\n",
    "plt.ylabel('predicted label');"
   ]
  },
  {
   "cell_type": "code",
   "execution_count": 84,
   "metadata": {},
   "outputs": [
    {
     "name": "stdout",
     "output_type": "stream",
     "text": [
      "              precision    recall  f1-score   support\n",
      "\n",
      "         neg       0.99      1.00      0.99     14746\n",
      "         pos       0.92      0.37      0.53       254\n",
      "\n",
      "    accuracy                           0.99     15000\n",
      "   macro avg       0.96      0.69      0.76     15000\n",
      "weighted avg       0.99      0.99      0.99     15000\n",
      "\n",
      "Confusion Matrix:\n",
      " [[14738     8]\n",
      " [  159    95]]\n"
     ]
    },
    {
     "name": "stderr",
     "output_type": "stream",
     "text": [
      "/store/venv/da5401/lib/python3.10/site-packages/sklearn/linear_model/_logistic.py:469: ConvergenceWarning: lbfgs failed to converge (status=1):\n",
      "STOP: TOTAL NO. of ITERATIONS REACHED LIMIT.\n",
      "\n",
      "Increase the number of iterations (max_iter) or scale the data as shown in:\n",
      "    https://scikit-learn.org/stable/modules/preprocessing.html\n",
      "Please also refer to the documentation for alternative solver options:\n",
      "    https://scikit-learn.org/stable/modules/linear_model.html#logistic-regression\n",
      "  n_iter_i = _check_optimize_result(\n"
     ]
    },
    {
     "name": "stdout",
     "output_type": "stream",
     "text": [
      "              precision    recall  f1-score   support\n",
      "\n",
      "         neg       0.99      1.00      0.99     14746\n",
      "         pos       0.88      0.36      0.51       254\n",
      "\n",
      "    accuracy                           0.99     15000\n",
      "   macro avg       0.93      0.68      0.75     15000\n",
      "weighted avg       0.99      0.99      0.99     15000\n",
      "\n",
      "Confusion Matrix:\n",
      " [[14733    13]\n",
      " [  163    91]]\n"
     ]
    }
   ],
   "source": [
    "logreg = LogisticRegression(max_iter=10000, class_weight={'pos':10, 'neg':500}).fit(X_train_scaled, ytrain)\n",
    "yhat_logreg = logreg.predict(X_test_scaled)\n",
    "print(classification_report(ytest, yhat_logreg, zero_division=0))\n",
    "print(\"Confusion Matrix:\\n\", confusion_matrix(ytest, yhat_logreg))\n",
    "\n",
    "logreg = LogisticRegression(max_iter=10000, class_weight={'pos':10, 'neg':500}).fit(Xtrain, ytrain)\n",
    "yhat_logreg = logreg.predict(Xtest)\n",
    "print(classification_report(ytest, yhat_logreg, zero_division=0))\n",
    "print(\"Confusion Matrix:\\n\", confusion_matrix(ytest, yhat_logreg))"
   ]
  },
  {
   "cell_type": "code",
   "execution_count": 68,
   "metadata": {},
   "outputs": [
    {
     "name": "stdout",
     "output_type": "stream",
     "text": [
      "Pos Training data: (746, 170)\n",
      "Neg Undersampled Training data: (5000, 170)\n",
      "Positive Support points: 435\n",
      "Negative Support points: 1019\n",
      "Stacked Training data: (7200, 170)\n",
      "Resampled Train Data: pos =  1181\n",
      "Resampled Train Data: neg =  6019\n",
      "\n",
      "Testing Classification Performance:\n",
      "               precision    recall  f1-score   support\n",
      "\n",
      "         neg       0.99      0.99      0.99     14746\n",
      "         pos       0.61      0.63      0.62       254\n",
      "\n",
      "    accuracy                           0.99     15000\n",
      "   macro avg       0.80      0.81      0.81     15000\n",
      "weighted avg       0.99      0.99      0.99     15000\n",
      "\n",
      "Confusion Matrix:\n",
      " [[14645   101]\n",
      " [   95   159]]\n"
     ]
    }
   ],
   "source": [
    "# get the positive points\n",
    "ytrain_pos = ytrain[ytrain=='pos']\n",
    "xtrain_pos = X_train_scaled[ytrain=='pos']\n",
    "print(\"Pos Training data:\", xtrain_pos.shape)\n",
    "\n",
    "# get the negative from the dataset.\n",
    "ytrain_neg = ytrain[ytrain=='neg']\n",
    "\n",
    "# under sample the negative points\n",
    "ids = np.arange(0, ytrain_neg.shape[0])\n",
    "sample_ids = np.random.choice(ids, 5000, replace=False)\n",
    "\n",
    "ytrain_neg = ytrain_neg[sample_ids]\n",
    "xtrain_neg = X_train_scaled[sample_ids]\n",
    "print(\"Neg Undersampled Training data:\", xtrain_neg.shape)\n",
    "\n",
    "print(\"Positive Support points:\", np.sum(ytrain[best_model.support_]=='pos'))\n",
    "print(\"Negative Support points:\", np.sum(ytrain[best_model.support_]=='neg'))\n",
    "\n",
    "# add the positives, undersampled negatives, and support points\n",
    "X_stacked = np.concatenate((X_train_scaled[best_model.support_], xtrain_pos, xtrain_neg), axis=0)\n",
    "y_stacked = np.concatenate((ytrain[best_model.support_], ytrain_pos, ytrain_neg), axis=0)\n",
    "print(\"Stacked Training data:\", X_stacked.shape)\n",
    "\n",
    "print(\"Resampled Train Data: pos = \", np.sum(y_stacked=='pos'))\n",
    "print(\"Resampled Train Data: neg = \", np.sum(y_stacked=='neg'))\n",
    "\n",
    "logreg_s = LogisticRegression(max_iter=10000, class_weight={'pos':10, 'neg':20}).fit(X_stacked, y_stacked)\n",
    "yhat_logreg = logreg_s.predict(X_test_scaled)\n",
    "print(\"\\nTesting Classification Performance:\\n\", classification_report(ytest, yhat_logreg, zero_division=0))\n",
    "print(\"Confusion Matrix:\\n\", confusion_matrix(ytest, yhat_logreg))"
   ]
  },
  {
   "cell_type": "code",
   "execution_count": 83,
   "metadata": {},
   "outputs": [
    {
     "name": "stdout",
     "output_type": "stream",
     "text": [
      "              precision    recall  f1-score   support\n",
      "\n",
      "         neg       0.99      1.00      0.99     14746\n",
      "         pos       0.68      0.31      0.42       254\n",
      "\n",
      "    accuracy                           0.99     15000\n",
      "   macro avg       0.83      0.65      0.71     15000\n",
      "weighted avg       0.98      0.99      0.98     15000\n",
      "\n",
      "Confusion Matrix:\n",
      " [[14709    37]\n",
      " [  176    78]]\n",
      "              precision    recall  f1-score   support\n",
      "\n",
      "         neg       0.99      1.00      0.99     14746\n",
      "         pos       0.68      0.31      0.42       254\n",
      "\n",
      "    accuracy                           0.99     15000\n",
      "   macro avg       0.83      0.65      0.71     15000\n",
      "weighted avg       0.98      0.99      0.98     15000\n",
      "\n",
      "Confusion Matrix:\n",
      " [[14709    37]\n",
      " [  176    78]]\n"
     ]
    }
   ],
   "source": [
    "from sklearn.tree import DecisionTreeClassifier\n",
    "model_tree = DecisionTreeClassifier(max_depth=2, class_weight={'pos':5, 'neg':3}, random_state=42).fit(X_train_scaled, ytrain)\n",
    "yhat_tree = model_tree.predict(X_test_scaled)\n",
    "print(classification_report(ytest, yhat_tree, zero_division=0))\n",
    "print(\"Confusion Matrix:\\n\", confusion_matrix(ytest, yhat_tree))\n",
    "\n",
    "model_tree = DecisionTreeClassifier(max_depth=2, class_weight={'pos':5, 'neg':3}, random_state=42).fit(Xtrain, ytrain)\n",
    "yhat_tree = model_tree.predict(Xtest)\n",
    "print(classification_report(ytest, yhat_tree, zero_division=0))\n",
    "print(\"Confusion Matrix:\\n\", confusion_matrix(ytest, yhat_tree))"
   ]
  },
  {
   "cell_type": "code",
   "execution_count": null,
   "metadata": {},
   "outputs": [],
   "source": []
  },
  {
   "cell_type": "code",
   "execution_count": null,
   "metadata": {},
   "outputs": [],
   "source": []
  },
  {
   "cell_type": "code",
   "execution_count": null,
   "metadata": {},
   "outputs": [],
   "source": []
  }
 ],
 "metadata": {
  "kernelspec": {
   "display_name": "da5401",
   "language": "python",
   "name": "da5401"
  },
  "language_info": {
   "codemirror_mode": {
    "name": "ipython",
    "version": 3
   },
   "file_extension": ".py",
   "mimetype": "text/x-python",
   "name": "python",
   "nbconvert_exporter": "python",
   "pygments_lexer": "ipython3",
   "version": "3.10.15"
  }
 },
 "nbformat": 4,
 "nbformat_minor": 2
}
