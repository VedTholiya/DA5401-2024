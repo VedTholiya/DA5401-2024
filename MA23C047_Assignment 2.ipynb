{
 "cells": [
  {
   "cell_type": "code",
   "execution_count": 469,
   "id": "ed77d429-dd6b-49be-becb-c1edf88e5e37",
   "metadata": {},
   "outputs": [],
   "source": [
    "import matplotlib.pyplot as plt\n",
    "import numpy as np\n",
    "import pandas as pd\n",
    "from math import log\n",
    "from matplotlib.figure import Figure \n",
    "from sklearn import linear_model\n",
    "import seaborn as sns\n",
    "from sklearn.linear_model import LinearRegression\n",
    "from sklearn.metrics import mean_squared_error\n",
    "from sklearn.model_selection import train_test_split\n",
    "%matplotlib inline"
   ]
  },
  {
   "cell_type": "code",
   "execution_count": 470,
   "id": "417a14f6-a1c1-4df5-9546-31930e810f32",
   "metadata": {},
   "outputs": [
    {
     "data": {
      "text/html": [
       "<div>\n",
       "<style scoped>\n",
       "    .dataframe tbody tr th:only-of-type {\n",
       "        vertical-align: middle;\n",
       "    }\n",
       "\n",
       "    .dataframe tbody tr th {\n",
       "        vertical-align: top;\n",
       "    }\n",
       "\n",
       "    .dataframe thead th {\n",
       "        text-align: right;\n",
       "    }\n",
       "</style>\n",
       "<table border=\"1\" class=\"dataframe\">\n",
       "  <thead>\n",
       "    <tr style=\"text-align: right;\">\n",
       "      <th></th>\n",
       "      <th>SpringPos</th>\n",
       "      <th>StockPrice</th>\n",
       "    </tr>\n",
       "  </thead>\n",
       "  <tbody>\n",
       "    <tr>\n",
       "      <th>0</th>\n",
       "      <td>2.27</td>\n",
       "      <td>3.48</td>\n",
       "    </tr>\n",
       "    <tr>\n",
       "      <th>1</th>\n",
       "      <td>6.38</td>\n",
       "      <td>2.99</td>\n",
       "    </tr>\n",
       "    <tr>\n",
       "      <th>2</th>\n",
       "      <td>8.61</td>\n",
       "      <td>5.86</td>\n",
       "    </tr>\n",
       "    <tr>\n",
       "      <th>3</th>\n",
       "      <td>8.65</td>\n",
       "      <td>1.79</td>\n",
       "    </tr>\n",
       "    <tr>\n",
       "      <th>4</th>\n",
       "      <td>13.17</td>\n",
       "      <td>3.47</td>\n",
       "    </tr>\n",
       "  </tbody>\n",
       "</table>\n",
       "</div>"
      ],
      "text/plain": [
       "   SpringPos  StockPrice\n",
       "0       2.27        3.48\n",
       "1       6.38        2.99\n",
       "2       8.61        5.86\n",
       "3       8.65        1.79\n",
       "4      13.17        3.47"
      ]
     },
     "execution_count": 470,
     "metadata": {},
     "output_type": "execute_result"
    }
   ],
   "source": [
    "data = pd.read_csv('Assignment2.data', sep='\\t')\n",
    "data.head()"
   ]
  },
  {
   "cell_type": "code",
   "execution_count": 471,
   "id": "035a831b-0401-4a6d-bcf1-edd55e1afbec",
   "metadata": {},
   "outputs": [
    {
     "data": {
      "text/html": [
       "<div>\n",
       "<style scoped>\n",
       "    .dataframe tbody tr th:only-of-type {\n",
       "        vertical-align: middle;\n",
       "    }\n",
       "\n",
       "    .dataframe tbody tr th {\n",
       "        vertical-align: top;\n",
       "    }\n",
       "\n",
       "    .dataframe thead th {\n",
       "        text-align: right;\n",
       "    }\n",
       "</style>\n",
       "<table border=\"1\" class=\"dataframe\">\n",
       "  <thead>\n",
       "    <tr style=\"text-align: right;\">\n",
       "      <th></th>\n",
       "      <th>SpringPos</th>\n",
       "      <th>StockPrice</th>\n",
       "    </tr>\n",
       "  </thead>\n",
       "  <tbody>\n",
       "    <tr>\n",
       "      <th>count</th>\n",
       "      <td>226.000000</td>\n",
       "      <td>226.000000</td>\n",
       "    </tr>\n",
       "    <tr>\n",
       "      <th>mean</th>\n",
       "      <td>3.785221</td>\n",
       "      <td>14.187743</td>\n",
       "    </tr>\n",
       "    <tr>\n",
       "      <th>std</th>\n",
       "      <td>10.704778</td>\n",
       "      <td>7.447450</td>\n",
       "    </tr>\n",
       "    <tr>\n",
       "      <th>min</th>\n",
       "      <td>-19.910000</td>\n",
       "      <td>0.670000</td>\n",
       "    </tr>\n",
       "    <tr>\n",
       "      <th>25%</th>\n",
       "      <td>-3.960000</td>\n",
       "      <td>8.355000</td>\n",
       "    </tr>\n",
       "    <tr>\n",
       "      <th>50%</th>\n",
       "      <td>4.195000</td>\n",
       "      <td>13.970000</td>\n",
       "    </tr>\n",
       "    <tr>\n",
       "      <th>75%</th>\n",
       "      <td>11.295000</td>\n",
       "      <td>19.632500</td>\n",
       "    </tr>\n",
       "    <tr>\n",
       "      <th>max</th>\n",
       "      <td>26.100000</td>\n",
       "      <td>30.050000</td>\n",
       "    </tr>\n",
       "  </tbody>\n",
       "</table>\n",
       "</div>"
      ],
      "text/plain": [
       "        SpringPos  StockPrice\n",
       "count  226.000000  226.000000\n",
       "mean     3.785221   14.187743\n",
       "std     10.704778    7.447450\n",
       "min    -19.910000    0.670000\n",
       "25%     -3.960000    8.355000\n",
       "50%      4.195000   13.970000\n",
       "75%     11.295000   19.632500\n",
       "max     26.100000   30.050000"
      ]
     },
     "execution_count": 471,
     "metadata": {},
     "output_type": "execute_result"
    }
   ],
   "source": [
    "data.describe()"
   ]
  },
  {
   "cell_type": "markdown",
   "id": "d4afd524-73aa-4604-a998-27c39572e835",
   "metadata": {},
   "source": [
    "#For the spring Position\n"
   ]
  },
  {
   "cell_type": "code",
   "execution_count": 472,
   "id": "1f0c6e13-485f-455f-b72a-04eed29a4bd2",
   "metadata": {},
   "outputs": [
    {
     "data": {
      "text/plain": [
       "<function matplotlib.pyplot.show(close=None, block=None)>"
      ]
     },
     "execution_count": 472,
     "metadata": {},
     "output_type": "execute_result"
    },
    {
     "data": {
      "image/png": "[encoded data removed]",
      "text/plain": [
       "<Figure size 1000x500 with 2 Axes>"
      ]
     },
     "metadata": {},
     "output_type": "display_data"
    }
   ],
   "source": [
    "fig, (ax1,ax2) = plt.subplots(2,1)\n",
    "ax1.plot(data.SpringPos, 'r+',)\n",
    "ax2.plot(data.StockPrice, 'b.')\n",
    "fig.set_figwidth(10)\n",
    "fig.set_figheight(5)\n",
    "ax2.set_xlabel('time')\n",
    "ax1.set_ylabel('Spring Position')\n",
    "ax2.set_ylabel('Stock Prices')\n",
    "plt.show"
   ]
  },
  {
   "cell_type": "markdown",
   "id": "39c3a64c-7733-4eae-98f2-42420fb74b0f",
   "metadata": {},
   "source": [
    "### Task 3"
   ]
  },
  {
   "cell_type": "markdown",
   "id": "bd0a9fce-fada-4173-8b20-c25fde006e21",
   "metadata": {},
   "source": [
    "### OLS for the Spring Price"
   ]
  },
  {
   "cell_type": "markdown",
   "id": "06604b93-8f3a-45c8-b0d1-b0247e2af37f",
   "metadata": {},
   "source": [
    "fitting a Linear model on the dataset"
   ]
  },
  {
   "cell_type": "code",
   "execution_count": null,
   "id": "bdc18686-9f6f-4766-a913-42a885f7c863",
   "metadata": {},
   "outputs": [],
   "source": []
  },
  {
   "cell_type": "code",
   "execution_count": 473,
   "id": "e1ecb906-efe3-48fd-bb16-830cd7744199",
   "metadata": {},
   "outputs": [
    {
     "data": {
      "text/html": [
       "<div>\n",
       "<style scoped>\n",
       "    .dataframe tbody tr th:only-of-type {\n",
       "        vertical-align: middle;\n",
       "    }\n",
       "\n",
       "    .dataframe tbody tr th {\n",
       "        vertical-align: top;\n",
       "    }\n",
       "\n",
       "    .dataframe thead th {\n",
       "        text-align: right;\n",
       "    }\n",
       "</style>\n",
       "<table border=\"1\" class=\"dataframe\">\n",
       "  <thead>\n",
       "    <tr style=\"text-align: right;\">\n",
       "      <th></th>\n",
       "      <th>x</th>\n",
       "      <th>y</th>\n",
       "    </tr>\n",
       "  </thead>\n",
       "  <tbody>\n",
       "    <tr>\n",
       "      <th>0</th>\n",
       "      <td>0</td>\n",
       "      <td>2.27</td>\n",
       "    </tr>\n",
       "    <tr>\n",
       "      <th>1</th>\n",
       "      <td>1</td>\n",
       "      <td>6.38</td>\n",
       "    </tr>\n",
       "    <tr>\n",
       "      <th>2</th>\n",
       "      <td>2</td>\n",
       "      <td>8.61</td>\n",
       "    </tr>\n",
       "    <tr>\n",
       "      <th>3</th>\n",
       "      <td>3</td>\n",
       "      <td>8.65</td>\n",
       "    </tr>\n",
       "    <tr>\n",
       "      <th>4</th>\n",
       "      <td>4</td>\n",
       "      <td>13.17</td>\n",
       "    </tr>\n",
       "  </tbody>\n",
       "</table>\n",
       "</div>"
      ],
      "text/plain": [
       "   x      y\n",
       "0  0   2.27\n",
       "1  1   6.38\n",
       "2  2   8.61\n",
       "3  3   8.65\n",
       "4  4  13.17"
      ]
     },
     "execution_count": 473,
     "metadata": {},
     "output_type": "execute_result"
    }
   ],
   "source": [
    "y1 = pd.DataFrame({'x':range(226), 'y':data.SpringPos})\n",
    "y1.head()\n"
   ]
  },
  {
   "cell_type": "markdown",
   "id": "2e09fb72-5baf-4068-b7cf-83491baf505d",
   "metadata": {},
   "source": [
    "Turning the data into matrices\n"
   ]
  },
  {
   "cell_type": "code",
   "execution_count": 474,
   "id": "2dcf9e51-ec6c-4acf-a53f-daf6207c8c5c",
   "metadata": {},
   "outputs": [],
   "source": [
    "yy = np.array(y1.y) \n",
    "xx.shape = (226,1)\n"
   ]
  },
  {
   "cell_type": "code",
   "execution_count": 475,
   "id": "cb69aaad-036b-40d5-bf32-6b89fb4fea16",
   "metadata": {},
   "outputs": [
    {
     "name": "stdout",
     "output_type": "stream",
     "text": [
      "Beta =  [-0.67237759]\n",
      "SSE =  27738.51607526325\n"
     ]
    }
   ],
   "source": [
    "\n",
    "mat = np.transpose(xx)\n",
    "mat.shape\n",
    "numerator = np.matmul(np.transpose(xx), yy)\n",
    "denom = np.matmul(np.transpose(xx), xx)\n",
    "denom_inv = np.linalg.inv(denom)\n",
    "beta = np.matmul(denom_inv, numerator)\n",
    "print(\"Beta = \", beta)\n",
    "sse = np.sum((xx*beta[0] - np.expand_dims(yy,1))**2)\n",
    "print(\"SSE = \", sse)"
   ]
  },
  {
   "cell_type": "markdown",
   "id": "9f04de43-c04f-4eff-87be-7acd96e0e75f",
   "metadata": {},
   "source": [
    "### Linear search of theta such that sse is min."
   ]
  },
  {
   "cell_type": "code",
   "execution_count": 476,
   "id": "f4512422-2a84-4324-b251-1f7ca896edeb",
   "metadata": {},
   "outputs": [
    {
     "name": "stdout",
     "output_type": "stream",
     "text": [
      "SSE = [np.float64(15743.124499999996), np.float64(21214.65907198907), np.float64(33719.431035242334), np.float64(57266.28765697189), np.float64(102378.66449999997), np.float64(200259.66595403914)]\n"
     ]
    }
   ],
   "source": [
    "def error_cal(theta):\n",
    "    pred=[np.tan(theta)*t for t in y1.x]\n",
    "    err_arr=[]\n",
    "    true_arr=np.array(y1.y)\n",
    "    for i in range(0,61):\n",
    "        err_arr.append((true_arr[i]-pred[i])**2)\n",
    "        \n",
    "    return np.sum(err_arr)\n",
    "\n",
    "err_arr1 = []\n",
    "for i in np.arange(0,np.pi/3,np.pi/16):\n",
    "    err_arr1.append(error_cal(i))\n",
    "print('SSE =' ,err_arr1)    \n"
   ]
  },
  {
   "cell_type": "markdown",
   "id": "f49a4db4-2901-47b3-9e4b-01f1067733e7",
   "metadata": {},
   "source": [
    "### Plotting theta vs SSE "
   ]
  },
  {
   "cell_type": "code",
   "execution_count": 477,
   "id": "91ac9aea-e446-4196-a314-ab33e1d3d8a1",
   "metadata": {},
   "outputs": [
    {
     "data": {
      "text/plain": [
       "np.float64(15743.124499999996)"
      ]
     },
     "execution_count": 477,
     "metadata": {},
     "output_type": "execute_result"
    }
   ],
   "source": [
    "err_arr1[0]"
   ]
  },
  {
   "cell_type": "code",
   "execution_count": 478,
   "id": "419aae23-eb0e-455c-8106-83c49456a119",
   "metadata": {},
   "outputs": [
    {
     "data": {
      "text/plain": [
       "np.float64(15743.124499999996)"
      ]
     },
     "execution_count": 478,
     "metadata": {},
     "output_type": "execute_result"
    }
   ],
   "source": [
    "np.min(err_arr1)\n"
   ]
  },
  {
   "cell_type": "code",
   "execution_count": 479,
   "id": "7754497a-e1ef-4847-86ae-f2ab95290efc",
   "metadata": {},
   "outputs": [
    {
     "data": {
      "text/plain": [
       "np.float64(200259.66595403914)"
      ]
     },
     "execution_count": 479,
     "metadata": {},
     "output_type": "execute_result"
    }
   ],
   "source": [
    "\n",
    "np.max(err_arr1)"
   ]
  },
  {
   "cell_type": "code",
   "execution_count": 480,
   "id": "bbf82167-1fe1-4227-bacb-303e53f85dbe",
   "metadata": {},
   "outputs": [
    {
     "data": {
      "text/plain": [
       "array([0.        , 0.19634954, 0.39269908, 0.58904862, 0.78539816,\n",
       "       0.9817477 ])"
      ]
     },
     "execution_count": 480,
     "metadata": {},
     "output_type": "execute_result"
    }
   ],
   "source": [
    "x_axis = np.arange(0,np.pi/3,np.pi/16)\n",
    "x_axis"
   ]
  },
  {
   "cell_type": "code",
   "execution_count": 481,
   "id": "411a74ea-4b71-4c59-8690-5689ef89bce1",
   "metadata": {},
   "outputs": [
    {
     "data": {
      "text/plain": [
       "np.int64(0)"
      ]
     },
     "execution_count": 481,
     "metadata": {},
     "output_type": "execute_result"
    }
   ],
   "source": [
    "\n",
    "min_ind = np.argmin(err_arr1)\n",
    "min_ind #SSE is minimum at theta = 0"
   ]
  },
  {
   "cell_type": "markdown",
   "id": "65290195-3fdb-49c6-ac4f-88394414eb42",
   "metadata": {},
   "source": [
    "### Plotting theta vs SSE"
   ]
  },
  {
   "cell_type": "code",
   "execution_count": 482,
   "id": "6657885a-398b-4022-897d-c28d4ba49c1d",
   "metadata": {},
   "outputs": [
    {
     "data": {
      "image/png": "[encoded data removed]",
      "text/plain": [
       "<Figure size 640x480 with 1 Axes>"
      ]
     },
     "metadata": {},
     "output_type": "display_data"
    }
   ],
   "source": [
    "plt.figure()\n",
    "x_axis = np.arange(0,np.pi/3,np.pi/16)\n",
    "y_axis = err_arr1\n",
    "plt.plot(x_axis,y_axis)\n",
    "plt.xlabel('Theta(0- pi/3)')\n",
    "plt.ylabel('SSE')\n",
    "plt.title('theta vs SSE')\n",
    "plt.show()"
   ]
  },
  {
   "cell_type": "markdown",
   "id": "de837f16-b9fe-4eb8-bf34-2f7a0efa8ef5",
   "metadata": {},
   "source": [
    "### We'll need to calculate beta, yhat and SSE multiple times so defining functions to calculate the same\n"
   ]
  },
  {
   "cell_type": "code",
   "execution_count": 483,
   "id": "e2e779aa-156d-40af-a60d-eadedb863091",
   "metadata": {},
   "outputs": [],
   "source": [
    "# estimate the value of the beta vector assuming that X is made of independent features.\n",
    "def estimateBeta(X, y):\n",
    "    numerator = np.matmul(np.transpose(X), y)\n",
    "    denom = np.matmul(np.transpose(X), X)\n",
    "    denom_inv = np.linalg.inv(denom)\n",
    "    beta = np.matmul(denom_inv, numerator)\n",
    "    return beta\n",
    "\n",
    "# create a helper that would estimate yhat from X and beta.\n",
    "def predict(beta, X):\n",
    "    # reshape the input to a matrix, if it is appearing like an 1d array.\n",
    "    if len(X.shape) != 2:\n",
    "        X = np.expand_dims(X,1)\n",
    "    # convert the beta list in to an array.\n",
    "    beta = np.array(beta)\n",
    "    # perform estimation of yhat.\n",
    "    return np.matmul(X, beta)\n",
    "\n",
    "# compute the sum of squared error between y and yhat.\n",
    "def SSE(y, yhat):\n",
    "    return np.sum((y-yhat)**2)"
   ]
  },
  {
   "cell_type": "code",
   "execution_count": 484,
   "id": "ca02f405-195b-4276-a339-0f428acdf4a3",
   "metadata": {},
   "outputs": [],
   "source": [
    "x = y1.x.values\n",
    "y = y1.y.values"
   ]
  },
  {
   "cell_type": "code",
   "execution_count": 485,
   "id": "6269a125-fd2e-4e2e-b5cc-4d381bbdd250",
   "metadata": {},
   "outputs": [],
   "source": [
    "x.shape =(226,1)"
   ]
  },
  {
   "cell_type": "code",
   "execution_count": 486,
   "id": "41661b7a-6675-457d-b062-8301cb342e90",
   "metadata": {},
   "outputs": [
    {
     "data": {
      "text/plain": [
       "array([0.01832175])"
      ]
     },
     "execution_count": 486,
     "metadata": {},
     "output_type": "execute_result"
    }
   ],
   "source": [
    "beta = estimateBeta(x,y)\n",
    "beta"
   ]
  },
  {
   "cell_type": "code",
   "execution_count": 487,
   "id": "d86635f8-c407-4f72-8fae-82b33f27c25b",
   "metadata": {},
   "outputs": [
    {
     "data": {
      "text/plain": [
       "(226,)"
      ]
     },
     "execution_count": 487,
     "metadata": {},
     "output_type": "execute_result"
    }
   ],
   "source": [
    "yhat1 = predict(beta, x)\n",
    "yhat1.shape"
   ]
  },
  {
   "cell_type": "code",
   "execution_count": 488,
   "id": "1730a1e9-4ba1-4cbe-a6af-81520a6ef3ed",
   "metadata": {},
   "outputs": [
    {
     "data": {
      "text/plain": [
       "Text(0.5, 0, 'Time')"
      ]
     },
     "execution_count": 488,
     "metadata": {},
     "output_type": "execute_result"
    },
    {
     "data": {
      "image/png": "[encoded data removed]",
      "text/plain": [
       "<Figure size 640x480 with 1 Axes>"
      ]
     },
     "metadata": {},
     "output_type": "display_data"
    }
   ],
   "source": [
    "plt.plot(y1.x, y1.y, 'r+')\n",
    "plt.plot(y1.x, yhat1, 'b-')  # yhat = y1.x*beta[0]\n",
    "plt.ylabel('Spring Position')\n",
    "plt.xlabel('Time')"
   ]
  },
  {
   "cell_type": "markdown",
   "id": "aab37078-1f97-4e3f-8718-bfd37ab9fee3",
   "metadata": {},
   "source": [
    "Defining functions to reuse the proce"
   ]
  },
  {
   "cell_type": "markdown",
   "id": "11fd9581-0506-4f47-8d38-a5b93672e36e",
   "metadata": {},
   "source": [
    "Adding an bias and checking how it effects SSE\n"
   ]
  },
  {
   "cell_type": "code",
   "execution_count": 489,
   "id": "2c6c13f7-4666-463d-87af-60ef5e29b5d0",
   "metadata": {},
   "outputs": [
    {
     "data": {
      "text/html": [
       "<div>\n",
       "<style scoped>\n",
       "    .dataframe tbody tr th:only-of-type {\n",
       "        vertical-align: middle;\n",
       "    }\n",
       "\n",
       "    .dataframe tbody tr th {\n",
       "        vertical-align: top;\n",
       "    }\n",
       "\n",
       "    .dataframe thead th {\n",
       "        text-align: right;\n",
       "    }\n",
       "</style>\n",
       "<table border=\"1\" class=\"dataframe\">\n",
       "  <thead>\n",
       "    <tr style=\"text-align: right;\">\n",
       "      <th></th>\n",
       "      <th>bias</th>\n",
       "      <th>x</th>\n",
       "      <th>y</th>\n",
       "    </tr>\n",
       "  </thead>\n",
       "  <tbody>\n",
       "    <tr>\n",
       "      <th>0</th>\n",
       "      <td>1.0</td>\n",
       "      <td>0</td>\n",
       "      <td>2.27</td>\n",
       "    </tr>\n",
       "    <tr>\n",
       "      <th>1</th>\n",
       "      <td>1.0</td>\n",
       "      <td>1</td>\n",
       "      <td>6.38</td>\n",
       "    </tr>\n",
       "    <tr>\n",
       "      <th>2</th>\n",
       "      <td>1.0</td>\n",
       "      <td>2</td>\n",
       "      <td>8.61</td>\n",
       "    </tr>\n",
       "    <tr>\n",
       "      <th>3</th>\n",
       "      <td>1.0</td>\n",
       "      <td>3</td>\n",
       "      <td>8.65</td>\n",
       "    </tr>\n",
       "    <tr>\n",
       "      <th>4</th>\n",
       "      <td>1.0</td>\n",
       "      <td>4</td>\n",
       "      <td>13.17</td>\n",
       "    </tr>\n",
       "  </tbody>\n",
       "</table>\n",
       "</div>"
      ],
      "text/plain": [
       "   bias  x      y\n",
       "0   1.0  0   2.27\n",
       "1   1.0  1   6.38\n",
       "2   1.0  2   8.61\n",
       "3   1.0  3   8.65\n",
       "4   1.0  4  13.17"
      ]
     },
     "execution_count": 489,
     "metadata": {},
     "output_type": "execute_result"
    }
   ],
   "source": [
    "y1df = pd.DataFrame({\"bias\":np.ones(226), \"x\":range(226), \"y\":data.SpringPos})\n",
    "yy = np.array(y1df.y) \n",
    "xx = np.array(y1df[[\"bias\",\"x\"]])\n",
    "y1df.head()\n"
   ]
  },
  {
   "cell_type": "markdown",
   "id": "a9c4e41c-4bca-49b2-b65c-1bd0cf81f1bf",
   "metadata": {},
   "source": [
    "### Computing Beta and SSE with the bias\n"
   ]
  },
  {
   "cell_type": "code",
   "execution_count": 490,
   "id": "9baff37a-47e7-4162-ab08-60ff56dcbd2a",
   "metadata": {},
   "outputs": [
    {
     "name": "stdout",
     "output_type": "stream",
     "text": [
      "beta = [ 6.8505263  -0.02724716]\n",
      "SSE = 25069.131971939343\n"
     ]
    }
   ],
   "source": [
    "beta2 = estimateBeta(xx, yy)\n",
    "print(\"beta =\", beta2)\n",
    "yhat2 = predict(beta2, xx)\n",
    "loss = SSE(yy, yhat2)\n",
    "print(\"SSE =\", loss)"
   ]
  },
  {
   "cell_type": "markdown",
   "id": "0e11d4b6-8af3-4645-8338-c63f615acad8",
   "metadata": {},
   "source": [
    "### Plotting it side by side\n"
   ]
  },
  {
   "cell_type": "code",
   "execution_count": 491,
   "id": "fbf600c7-0ddc-403d-8baf-28ddd6d6b947",
   "metadata": {},
   "outputs": [
    {
     "data": {
      "text/plain": [
       "Text(0.5, 0, 'Time')"
      ]
     },
     "execution_count": 491,
     "metadata": {},
     "output_type": "execute_result"
    },
    {
     "data": {
      "image/png": "[encoded data removed]",
      "text/plain": [
       "<Figure size 640x480 with 1 Axes>"
      ]
     },
     "metadata": {},
     "output_type": "display_data"
    }
   ],
   "source": [
    "plt.plot(y1df.x, y1df.y, 'r+')\n",
    "plt.plot(y1df.x, yhat1, 'b-')\n",
    "plt.plot(y1df.x, yhat2, 'g-')\n",
    "plt.ylabel('SPring Position')\n",
    "plt.xlabel('Time')"
   ]
  },
  {
   "cell_type": "markdown",
   "id": "2ee697a7-d7c0-4227-88b2-800a36c63aac",
   "metadata": {},
   "source": [
    "### Now we to add periodic factor into our calculation we add a new parameter sin(x) for the periodicity in the values and we also introduce time factor as new updated feature by doing x*β that is a updated feature space"
   ]
  },
  {
   "cell_type": "code",
   "execution_count": 492,
   "id": "9466bc60-d255-4461-b0a3-ab53db3fb7bf",
   "metadata": {},
   "outputs": [
    {
     "data": {
      "text/html": [
       "<div>\n",
       "<style scoped>\n",
       "    .dataframe tbody tr th:only-of-type {\n",
       "        vertical-align: middle;\n",
       "    }\n",
       "\n",
       "    .dataframe tbody tr th {\n",
       "        vertical-align: top;\n",
       "    }\n",
       "\n",
       "    .dataframe thead th {\n",
       "        text-align: right;\n",
       "    }\n",
       "</style>\n",
       "<table border=\"1\" class=\"dataframe\">\n",
       "  <thead>\n",
       "    <tr style=\"text-align: right;\">\n",
       "      <th></th>\n",
       "      <th>bias</th>\n",
       "      <th>x</th>\n",
       "      <th>y</th>\n",
       "      <th>x1</th>\n",
       "      <th>x2</th>\n",
       "    </tr>\n",
       "  </thead>\n",
       "  <tbody>\n",
       "    <tr>\n",
       "      <th>0</th>\n",
       "      <td>1.0</td>\n",
       "      <td>0</td>\n",
       "      <td>2.27</td>\n",
       "      <td>-0.00</td>\n",
       "      <td>-0.000000</td>\n",
       "    </tr>\n",
       "    <tr>\n",
       "      <th>1</th>\n",
       "      <td>1.0</td>\n",
       "      <td>1</td>\n",
       "      <td>6.38</td>\n",
       "      <td>-0.03</td>\n",
       "      <td>-0.029996</td>\n",
       "    </tr>\n",
       "    <tr>\n",
       "      <th>2</th>\n",
       "      <td>1.0</td>\n",
       "      <td>2</td>\n",
       "      <td>8.61</td>\n",
       "      <td>-0.05</td>\n",
       "      <td>-0.049979</td>\n",
       "    </tr>\n",
       "    <tr>\n",
       "      <th>3</th>\n",
       "      <td>1.0</td>\n",
       "      <td>3</td>\n",
       "      <td>8.65</td>\n",
       "      <td>-0.08</td>\n",
       "      <td>-0.079915</td>\n",
       "    </tr>\n",
       "    <tr>\n",
       "      <th>4</th>\n",
       "      <td>1.0</td>\n",
       "      <td>4</td>\n",
       "      <td>13.17</td>\n",
       "      <td>-0.11</td>\n",
       "      <td>-0.109778</td>\n",
       "    </tr>\n",
       "    <tr>\n",
       "      <th>...</th>\n",
       "      <td>...</td>\n",
       "      <td>...</td>\n",
       "      <td>...</td>\n",
       "      <td>...</td>\n",
       "      <td>...</td>\n",
       "    </tr>\n",
       "    <tr>\n",
       "      <th>221</th>\n",
       "      <td>1.0</td>\n",
       "      <td>221</td>\n",
       "      <td>1.37</td>\n",
       "      <td>-6.02</td>\n",
       "      <td>0.260157</td>\n",
       "    </tr>\n",
       "    <tr>\n",
       "      <th>222</th>\n",
       "      <td>1.0</td>\n",
       "      <td>222</td>\n",
       "      <td>2.29</td>\n",
       "      <td>-6.05</td>\n",
       "      <td>0.231078</td>\n",
       "    </tr>\n",
       "    <tr>\n",
       "      <th>223</th>\n",
       "      <td>1.0</td>\n",
       "      <td>223</td>\n",
       "      <td>1.80</td>\n",
       "      <td>-6.08</td>\n",
       "      <td>0.201790</td>\n",
       "    </tr>\n",
       "    <tr>\n",
       "      <th>224</th>\n",
       "      <td>1.0</td>\n",
       "      <td>224</td>\n",
       "      <td>0.82</td>\n",
       "      <td>-6.10</td>\n",
       "      <td>0.182163</td>\n",
       "    </tr>\n",
       "    <tr>\n",
       "      <th>225</th>\n",
       "      <td>1.0</td>\n",
       "      <td>225</td>\n",
       "      <td>0.59</td>\n",
       "      <td>-6.13</td>\n",
       "      <td>0.152587</td>\n",
       "    </tr>\n",
       "  </tbody>\n",
       "</table>\n",
       "<p>226 rows × 5 columns</p>\n",
       "</div>"
      ],
      "text/plain": [
       "     bias    x      y    x1        x2\n",
       "0     1.0    0   2.27 -0.00 -0.000000\n",
       "1     1.0    1   6.38 -0.03 -0.029996\n",
       "2     1.0    2   8.61 -0.05 -0.049979\n",
       "3     1.0    3   8.65 -0.08 -0.079915\n",
       "4     1.0    4  13.17 -0.11 -0.109778\n",
       "..    ...  ...    ...   ...       ...\n",
       "221   1.0  221   1.37 -6.02  0.260157\n",
       "222   1.0  222   2.29 -6.05  0.231078\n",
       "223   1.0  223   1.80 -6.08  0.201790\n",
       "224   1.0  224   0.82 -6.10  0.182163\n",
       "225   1.0  225   0.59 -6.13  0.152587\n",
       "\n",
       "[226 rows x 5 columns]"
      ]
     },
     "execution_count": 492,
     "metadata": {},
     "output_type": "execute_result"
    }
   ],
   "source": [
    "x1= np.round(x*beta2[1],2)\n",
    "x2 = np.sin(x1)\n",
    "new_data=y1df.copy()\n",
    "new_data['x1']=x1\n",
    "new_data['x2']=x2\n",
    "new_data\n",
    "\n",
    "# y11 = pd.DataFrame({\"bias\":np.ones(226),\"x\":range(226), \"x1\":x1, \"x2\":x2, \"y\":data.SpringPos.values})\n",
    "# y11.head(10)"
   ]
  },
  {
   "cell_type": "markdown",
   "id": "51de186e-ddd7-4303-825b-bf5641480ee9",
   "metadata": {},
   "source": [
    "### Converting the data into matrices and Plotting the case for beta and SSE calculation with updated features(time x)\n"
   ]
  },
  {
   "cell_type": "code",
   "execution_count": 493,
   "id": "2e0d310c-6447-482b-99b1-676819f6e6e6",
   "metadata": {},
   "outputs": [],
   "source": [
    "xx = np.array(new_data[['bias', 'x1', 'x2']])\n",
    "yy = np.array(new_data.y) "
   ]
  },
  {
   "cell_type": "code",
   "execution_count": 494,
   "id": "b947f056-4812-4a1a-8a93-3542bb787861",
   "metadata": {},
   "outputs": [
    {
     "name": "stdout",
     "output_type": "stream",
     "text": [
      "Beta =  [11.99634589  2.6761454   5.21496085]\n",
      "SSE =  23939.67344042505\n"
     ]
    }
   ],
   "source": [
    "beta3 = estimateBeta(xx, yy)\n",
    "print(\"Beta = \", beta3)\n",
    "yhat3 = predict(beta3, xx)\n",
    "loss = SSE(yy, yhat3) ##np.sum((np.matmul(xx,beta) - yy)**2) from the defined function\n",
    "print(\"SSE = \", loss)"
   ]
  },
  {
   "cell_type": "code",
   "execution_count": 495,
   "id": "5d6a514e-4a6f-41da-9f4c-67051485d7b5",
   "metadata": {},
   "outputs": [
    {
     "data": {
      "text/plain": [
       "Text(0.5, 0, 'Time')"
      ]
     },
     "execution_count": 495,
     "metadata": {},
     "output_type": "execute_result"
    },
    {
     "data": {
      "image/png": "[encoded data removed]",
      "text/plain": [
       "<Figure size 640x480 with 1 Axes>"
      ]
     },
     "metadata": {},
     "output_type": "display_data"
    }
   ],
   "source": [
    "plt.plot(y11.x, y11.y, 'r+')\n",
    "plt.plot(y11.x, yhat3, 'b-')\n",
    "plt.ylabel('Spring Position')\n",
    "plt.xlabel('Time')"
   ]
  },
  {
   "cell_type": "markdown",
   "id": "476e97a1-83af-41e8-a300-50ef9484a222",
   "metadata": {},
   "source": [
    "### We also see the polynomial fit for our model"
   ]
  },
  {
   "cell_type": "code",
   "execution_count": 496,
   "id": "f7918b4f-ac2c-4a64-9a2c-d73e267226ad",
   "metadata": {},
   "outputs": [],
   "source": [
    "# x1 = round(y1.x*beta2[1],2)\n",
    "\n",
    "# y11 = pd.DataFrame({\"bias\":np.ones(226),\"x\":range(226), \"x1\":x1, \"y\":data.SpringPos})\n",
    "# y11.head(10)"
   ]
  },
  {
   "cell_type": "markdown",
   "id": "2a60f75f-2053-4045-9931-9b2a62ab2a11",
   "metadata": {},
   "source": [
    "### Data matrices"
   ]
  },
  {
   "cell_type": "code",
   "execution_count": 497,
   "id": "20d832f6-1c48-4d3d-b0b8-022314c7e717",
   "metadata": {},
   "outputs": [],
   "source": [
    "xx = np.array(new_data[['x1']])\n",
    "yy = np.array(new_data.y) "
   ]
  },
  {
   "cell_type": "code",
   "execution_count": 498,
   "id": "a282f6ed-5652-4860-a8dc-4a8f440f0195",
   "metadata": {},
   "outputs": [],
   "source": [
    "from sklearn.preprocessing import PolynomialFeatures\n",
    "poly_transformer = PolynomialFeatures(degree = 17)   \n",
    "X_poly = poly_transformer.fit_transform(xx)"
   ]
  },
  {
   "cell_type": "code",
   "execution_count": 499,
   "id": "ded5b5d6-998e-4c83-8caf-d102e83a544c",
   "metadata": {},
   "outputs": [
    {
     "name": "stdout",
     "output_type": "stream",
     "text": [
      "Intercept= 2.8613881313622787 Beta =  [ 0.00000000e+00 -9.38791738e+01 -3.56513047e+01  1.48615982e+02\n",
      " -2.02100024e+01 -1.11359086e+02  6.07423718e+01  7.48196135e+01\n",
      " -4.39848673e+01 -7.70783056e+01 -3.99234494e+01 -1.03204228e+01\n",
      " -1.18062681e+00  6.15084412e-02  3.95663646e-02  5.54337331e-03\n",
      "  3.63863118e-04  9.63878668e-06]\n",
      "SSE =  460.0810657028443\n"
     ]
    }
   ],
   "source": [
    "from sklearn.linear_model import LinearRegression\n",
    "model = LinearRegression().fit(X_poly, yy)\n",
    "print(\"Intercept=\", model.intercept_, \"Beta = \", model.coef_)\n",
    "yhat4 = model.predict(X_poly)\n",
    "\n",
    "loss = SSE(yy, yhat4)\n",
    "print(\"SSE = \", loss)"
   ]
  },
  {
   "cell_type": "code",
   "execution_count": 500,
   "id": "1e684b57-fdeb-45ea-ad9e-2d245bf585b0",
   "metadata": {},
   "outputs": [
    {
     "data": {
      "text/plain": [
       "array([  2.27,   6.38,   8.61,   8.65,  13.17,  14.52,  15.12,  19.62,\n",
       "        18.91,  23.17,  24.17,  24.96,  23.72,  26.1 ,  26.09,  24.4 ,\n",
       "        24.21,  23.12,  25.71,  24.06,  25.86,  24.64,  22.51,  20.31,\n",
       "        19.27,  15.58,  11.91,   9.57,  10.53,   5.32,   6.8 ,   5.13,\n",
       "        -0.64,  -1.91,  -3.77,  -2.6 ,  -7.16, -10.78,  -8.69, -12.28,\n",
       "       -12.58, -15.95, -13.74, -14.59, -15.8 , -17.53, -19.91, -15.32,\n",
       "       -17.69, -17.25, -15.17, -13.66, -13.19, -11.89, -12.57, -12.54,\n",
       "        -9.06,  -7.35,  -7.89,  -4.57,  -3.98,  -1.7 ,   1.  ,   0.65,\n",
       "         6.02,   5.76,   9.  ,   8.23,  13.22,  14.31,  14.02,  16.63,\n",
       "        15.67,  18.69,  20.6 ,  20.42,  19.51,  17.19,  19.75,  20.03,\n",
       "        17.3 ,  20.08,  18.8 ,  19.77,  15.78,  14.67,  14.01,  11.72,\n",
       "        13.21,   9.8 ,   9.52,   5.57,   7.25,   6.89,   0.68,  -0.07,\n",
       "         0.72,  -1.51,  -3.9 ,  -4.32,  -3.18,  -7.19,  -9.25,  -7.38,\n",
       "       -10.89,  -9.51, -12.21,  -9.18, -13.89, -12.47, -11.79,  -9.98,\n",
       "       -12.17,  -8.19,  -9.65, -11.49,  -6.34,  -7.67,  -8.23,  -7.07,\n",
       "        -2.54,  -0.83,  -2.81,   1.39,   1.81,  -0.6 ,   3.8 ,   3.75,\n",
       "         6.5 ,   5.59,   5.27,   6.95,   9.5 ,  11.36,  12.65,  11.88,\n",
       "        11.87,  12.19,  11.92,  15.58,  11.1 ,  11.59,  13.77,  10.74,\n",
       "        13.55,  12.79,  13.58,  12.17,  10.57,  11.06,   9.68,   5.85,\n",
       "         6.71,   4.63,   4.48,   4.75,   5.82,   1.86,   3.55,   0.18,\n",
       "        -2.32,  -2.6 ,  -2.01,  -1.53,  -4.62,  -1.22,  -1.72,  -6.24,\n",
       "        -4.9 ,  -4.  ,  -3.45,  -4.91,  -4.42,  -5.67,  -6.98,  -4.7 ,\n",
       "        -5.89,  -3.68,  -4.67,  -1.19,  -4.77,  -3.31,   0.35,   1.1 ,\n",
       "         1.18,   2.63,  -1.35,   1.47,   2.19,   0.34,   5.89,   2.75,\n",
       "         5.55,   2.99,   6.39,   4.2 ,   8.19,   7.11,   6.42,   8.69,\n",
       "         6.36,   7.89,   6.88,   4.98,   6.88,   9.25,   8.57,   6.35,\n",
       "         5.91,   4.23,   5.11,   5.67,   5.11,   5.46,   6.81,   4.12,\n",
       "         2.58,   1.65,   2.96,   4.19,   1.11,   1.37,   2.29,   1.8 ,\n",
       "         0.82,   0.59])"
      ]
     },
     "execution_count": 500,
     "metadata": {},
     "output_type": "execute_result"
    }
   ],
   "source": [
    "yy"
   ]
  },
  {
   "cell_type": "code",
   "execution_count": 512,
   "id": "ba3fb0b6-158a-4e4a-8c81-bbf7beaed661",
   "metadata": {},
   "outputs": [],
   "source": [
    "# plt.plot(y1.x, y1.y, 'r+')\n",
    "# plt.plot(y1.x, yhat4, 'b-')\n",
    "# plt.ylabel('Spring Position')\n",
    "# plt.xlabel('Time')\n",
    "# plt.legend(['Price', 'OLS'], loc='upper right')\n",
    "# plt.show()"
   ]
  },
  {
   "cell_type": "code",
   "execution_count": 510,
   "id": "3d431d86-a850-41cf-b1c1-6e7512ef0707",
   "metadata": {},
   "outputs": [
    {
     "data": {
      "image/png": "[encoded data removed]",
      "text/plain": [
       "<Figure size 640x480 with 1 Axes>"
      ]
     },
     "metadata": {},
     "output_type": "display_data"
    }
   ],
   "source": [
    "plt.ylabel('Spring Position')\n",
    "plt.xlabel('Time')\n",
    "plt.plot(y1.x, y1.y, 'r+')\n",
    "plt.plot(y1.x, yhat4, 'b-')\n",
    "plt.legend(['Spring Position', 'PolynomialFit', ], loc='upper right')\n",
    "plt.show()"
   ]
  },
  {
   "cell_type": "markdown",
   "id": "76af0c2f-e60b-421f-b4e4-c6e61b035e7b",
   "metadata": {},
   "source": [
    "### Splitting the data into train test evaluation for Interpolation\n"
   ]
  },
  {
   "cell_type": "code",
   "execution_count": null,
   "id": "a5d803b8-3d5e-4e5d-a3d4-fa31d5a24649",
   "metadata": {},
   "outputs": [],
   "source": []
  },
  {
   "cell_type": "code",
   "execution_count": 503,
   "id": "cc014529-b958-4b73-aeb1-9d532e66117e",
   "metadata": {},
   "outputs": [
    {
     "data": {
      "image/png": "[encoded data removed]",
      "text/plain": [
       "<Figure size 1200x600 with 1 Axes>"
      ]
     },
     "metadata": {},
     "output_type": "display_data"
    },
    {
     "data": {
      "image/png": "[encoded data removed]",
      "text/plain": [
       "<Figure size 1000x400 with 1 Axes>"
      ]
     },
     "metadata": {},
     "output_type": "display_data"
    },
    {
     "data": {
      "image/png": "[encoded data removed]",
      "text/plain": [
       "<Figure size 1000x400 with 1 Axes>"
      ]
     },
     "metadata": {},
     "output_type": "display_data"
    }
   ],
   "source": [
    "train_data, test_data = train_test_split(data.SpringPos, test_size=0.25, random_state=30)\n",
    "train_data, eval_data = train_test_split(train_data, test_size=0.25, random_state=30)\n",
    "\n",
    "# Visualising the data\n",
    "\n",
    "plt.figure(figsize=(12, 6))\n",
    "plt.plot(train_data, 'b.', label = 'Train(Interpolation')\n",
    "plt.xlabel('time')\n",
    "plt.ylabel('Stock Prices')\n",
    "plt.legend()\n",
    "plt.show()\n",
    "plt.figure(figsize=(10, 4))\n",
    "plt.plot(test_data, 'r.', label = 'Test(Interpolation)')\n",
    "plt.xlabel('time')\n",
    "plt.ylabel('Stock Prices')\n",
    "plt.legend()\n",
    "plt.show()\n",
    "plt.figure(figsize=(10, 4))\n",
    "plt.plot(eval_data,'g.', label = 'Eval(Interpolation)')\n",
    "plt.xlabel('time')\n",
    "plt.ylabel('Stock Prices')\n",
    "plt.legend()\n",
    "plt.show()\n"
   ]
  },
  {
   "cell_type": "markdown",
   "id": "9a752ea2-95ed-4c18-820c-8f5ca7afafdc",
   "metadata": {},
   "source": [
    "### Task 3 Extrapolation\n"
   ]
  },
  {
   "cell_type": "code",
   "execution_count": 504,
   "id": "53edd532-b879-411c-9c86-d5a05c7effc7",
   "metadata": {},
   "outputs": [],
   "source": [
    "X_train,X_test,y_train,y_test=train_test_split(xx,yy,test_size=0.25,random_state=30)\n"
   ]
  },
  {
   "cell_type": "code",
   "execution_count": 505,
   "id": "cfee5536-5a2e-4dd9-a2e3-c6d6b82c6a81",
   "metadata": {},
   "outputs": [
    {
     "data": {
      "text/html": [
       "<style>#sk-container-id-11 {\n",
       "  /* Definition of color scheme common for light and dark mode */\n",
       "  --sklearn-color-text: black;\n",
       "  --sklearn-color-line: gray;\n",
       "  /* Definition of color scheme for unfitted estimators */\n",
       "  --sklearn-color-unfitted-level-0: #fff5e6;\n",
       "  --sklearn-color-unfitted-level-1: #f6e4d2;\n",
       "  --sklearn-color-unfitted-level-2: #ffe0b3;\n",
       "  --sklearn-color-unfitted-level-3: chocolate;\n",
       "  /* Definition of color scheme for fitted estimators */\n",
       "  --sklearn-color-fitted-level-0: #f0f8ff;\n",
       "  --sklearn-color-fitted-level-1: #d4ebff;\n",
       "  --sklearn-color-fitted-level-2: #b3dbfd;\n",
       "  --sklearn-color-fitted-level-3: cornflowerblue;\n",
       "\n",
       "  /* Specific color for light theme */\n",
       "  --sklearn-color-text-on-default-background: var(--sg-text-color, var(--theme-code-foreground, var(--jp-content-font-color1, black)));\n",
       "  --sklearn-color-background: var(--sg-background-color, var(--theme-background, var(--jp-layout-color0, white)));\n",
       "  --sklearn-color-border-box: var(--sg-text-color, var(--theme-code-foreground, var(--jp-content-font-color1, black)));\n",
       "  --sklearn-color-icon: #696969;\n",
       "\n",
       "  @media (prefers-color-scheme: dark) {\n",
       "    /* Redefinition of color scheme for dark theme */\n",
       "    --sklearn-color-text-on-default-background: var(--sg-text-color, var(--theme-code-foreground, var(--jp-content-font-color1, white)));\n",
       "    --sklearn-color-background: var(--sg-background-color, var(--theme-background, var(--jp-layout-color0, #111)));\n",
       "    --sklearn-color-border-box: var(--sg-text-color, var(--theme-code-foreground, var(--jp-content-font-color1, white)));\n",
       "    --sklearn-color-icon: #878787;\n",
       "  }\n",
       "}\n",
       "\n",
       "#sk-container-id-11 {\n",
       "  color: var(--sklearn-color-text);\n",
       "}\n",
       "\n",
       "#sk-container-id-11 pre {\n",
       "  padding: 0;\n",
       "}\n",
       "\n",
       "#sk-container-id-11 input.sk-hidden--visually {\n",
       "  border: 0;\n",
       "  clip: rect(1px 1px 1px 1px);\n",
       "  clip: rect(1px, 1px, 1px, 1px);\n",
       "  height: 1px;\n",
       "  margin: -1px;\n",
       "  overflow: hidden;\n",
       "  padding: 0;\n",
       "  position: absolute;\n",
       "  width: 1px;\n",
       "}\n",
       "\n",
       "#sk-container-id-11 div.sk-dashed-wrapped {\n",
       "  border: 1px dashed var(--sklearn-color-line);\n",
       "  margin: 0 0.4em 0.5em 0.4em;\n",
       "  box-sizing: border-box;\n",
       "  padding-bottom: 0.4em;\n",
       "  background-color: var(--sklearn-color-background);\n",
       "}\n",
       "\n",
       "#sk-container-id-11 div.sk-container {\n",
       "  /* jupyter's `normalize.less` sets `[hidden] { display: none; }`\n",
       "     but bootstrap.min.css set `[hidden] { display: none !important; }`\n",
       "     so we also need the `!important` here to be able to override the\n",
       "     default hidden behavior on the sphinx rendered scikit-learn.org.\n",
       "     See: https://github.com/scikit-learn/scikit-learn/issues/21755 */\n",
       "  display: inline-block !important;\n",
       "  position: relative;\n",
       "}\n",
       "\n",
       "#sk-container-id-11 div.sk-text-repr-fallback {\n",
       "  display: none;\n",
       "}\n",
       "\n",
       "div.sk-parallel-item,\n",
       "div.sk-serial,\n",
       "div.sk-item {\n",
       "  /* draw centered vertical line to link estimators */\n",
       "  background-image: linear-gradient(var(--sklearn-color-text-on-default-background), var(--sklearn-color-text-on-default-background));\n",
       "  background-size: 2px 100%;\n",
       "  background-repeat: no-repeat;\n",
       "  background-position: center center;\n",
       "}\n",
       "\n",
       "/* Parallel-specific style estimator block */\n",
       "\n",
       "#sk-container-id-11 div.sk-parallel-item::after {\n",
       "  content: \"\";\n",
       "  width: 100%;\n",
       "  border-bottom: 2px solid var(--sklearn-color-text-on-default-background);\n",
       "  flex-grow: 1;\n",
       "}\n",
       "\n",
       "#sk-container-id-11 div.sk-parallel {\n",
       "  display: flex;\n",
       "  align-items: stretch;\n",
       "  justify-content: center;\n",
       "  background-color: var(--sklearn-color-background);\n",
       "  position: relative;\n",
       "}\n",
       "\n",
       "#sk-container-id-11 div.sk-parallel-item {\n",
       "  display: flex;\n",
       "  flex-direction: column;\n",
       "}\n",
       "\n",
       "#sk-container-id-11 div.sk-parallel-item:first-child::after {\n",
       "  align-self: flex-end;\n",
       "  width: 50%;\n",
       "}\n",
       "\n",
       "#sk-container-id-11 div.sk-parallel-item:last-child::after {\n",
       "  align-self: flex-start;\n",
       "  width: 50%;\n",
       "}\n",
       "\n",
       "#sk-container-id-11 div.sk-parallel-item:only-child::after {\n",
       "  width: 0;\n",
       "}\n",
       "\n",
       "/* Serial-specific style estimator block */\n",
       "\n",
       "#sk-container-id-11 div.sk-serial {\n",
       "  display: flex;\n",
       "  flex-direction: column;\n",
       "  align-items: center;\n",
       "  background-color: var(--sklearn-color-background);\n",
       "  padding-right: 1em;\n",
       "  padding-left: 1em;\n",
       "}\n",
       "\n",
       "\n",
       "/* Toggleable style: style used for estimator/Pipeline/ColumnTransformer box that is\n",
       "clickable and can be expanded/collapsed.\n",
       "- Pipeline and ColumnTransformer use this feature and define the default style\n",
       "- Estimators will overwrite some part of the style using the `sk-estimator` class\n",
       "*/\n",
       "\n",
       "/* Pipeline and ColumnTransformer style (default) */\n",
       "\n",
       "#sk-container-id-11 div.sk-toggleable {\n",
       "  /* Default theme specific background. It is overwritten whether we have a\n",
       "  specific estimator or a Pipeline/ColumnTransformer */\n",
       "  background-color: var(--sklearn-color-background);\n",
       "}\n",
       "\n",
       "/* Toggleable label */\n",
       "#sk-container-id-11 label.sk-toggleable__label {\n",
       "  cursor: pointer;\n",
       "  display: block;\n",
       "  width: 100%;\n",
       "  margin-bottom: 0;\n",
       "  padding: 0.5em;\n",
       "  box-sizing: border-box;\n",
       "  text-align: center;\n",
       "}\n",
       "\n",
       "#sk-container-id-11 label.sk-toggleable__label-arrow:before {\n",
       "  /* Arrow on the left of the label */\n",
       "  content: \"▸\";\n",
       "  float: left;\n",
       "  margin-right: 0.25em;\n",
       "  color: var(--sklearn-color-icon);\n",
       "}\n",
       "\n",
       "#sk-container-id-11 label.sk-toggleable__label-arrow:hover:before {\n",
       "  color: var(--sklearn-color-text);\n",
       "}\n",
       "\n",
       "/* Toggleable content - dropdown */\n",
       "\n",
       "#sk-container-id-11 div.sk-toggleable__content {\n",
       "  max-height: 0;\n",
       "  max-width: 0;\n",
       "  overflow: hidden;\n",
       "  text-align: left;\n",
       "  /* unfitted */\n",
       "  background-color: var(--sklearn-color-unfitted-level-0);\n",
       "}\n",
       "\n",
       "#sk-container-id-11 div.sk-toggleable__content.fitted {\n",
       "  /* fitted */\n",
       "  background-color: var(--sklearn-color-fitted-level-0);\n",
       "}\n",
       "\n",
       "#sk-container-id-11 div.sk-toggleable__content pre {\n",
       "  margin: 0.2em;\n",
       "  border-radius: 0.25em;\n",
       "  color: var(--sklearn-color-text);\n",
       "  /* unfitted */\n",
       "  background-color: var(--sklearn-color-unfitted-level-0);\n",
       "}\n",
       "\n",
       "#sk-container-id-11 div.sk-toggleable__content.fitted pre {\n",
       "  /* unfitted */\n",
       "  background-color: var(--sklearn-color-fitted-level-0);\n",
       "}\n",
       "\n",
       "#sk-container-id-11 input.sk-toggleable__control:checked~div.sk-toggleable__content {\n",
       "  /* Expand drop-down */\n",
       "  max-height: 200px;\n",
       "  max-width: 100%;\n",
       "  overflow: auto;\n",
       "}\n",
       "\n",
       "#sk-container-id-11 input.sk-toggleable__control:checked~label.sk-toggleable__label-arrow:before {\n",
       "  content: \"▾\";\n",
       "}\n",
       "\n",
       "/* Pipeline/ColumnTransformer-specific style */\n",
       "\n",
       "#sk-container-id-11 div.sk-label input.sk-toggleable__control:checked~label.sk-toggleable__label {\n",
       "  color: var(--sklearn-color-text);\n",
       "  background-color: var(--sklearn-color-unfitted-level-2);\n",
       "}\n",
       "\n",
       "#sk-container-id-11 div.sk-label.fitted input.sk-toggleable__control:checked~label.sk-toggleable__label {\n",
       "  background-color: var(--sklearn-color-fitted-level-2);\n",
       "}\n",
       "\n",
       "/* Estimator-specific style */\n",
       "\n",
       "/* Colorize estimator box */\n",
       "#sk-container-id-11 div.sk-estimator input.sk-toggleable__control:checked~label.sk-toggleable__label {\n",
       "  /* unfitted */\n",
       "  background-color: var(--sklearn-color-unfitted-level-2);\n",
       "}\n",
       "\n",
       "#sk-container-id-11 div.sk-estimator.fitted input.sk-toggleable__control:checked~label.sk-toggleable__label {\n",
       "  /* fitted */\n",
       "  background-color: var(--sklearn-color-fitted-level-2);\n",
       "}\n",
       "\n",
       "#sk-container-id-11 div.sk-label label.sk-toggleable__label,\n",
       "#sk-container-id-11 div.sk-label label {\n",
       "  /* The background is the default theme color */\n",
       "  color: var(--sklearn-color-text-on-default-background);\n",
       "}\n",
       "\n",
       "/* On hover, darken the color of the background */\n",
       "#sk-container-id-11 div.sk-label:hover label.sk-toggleable__label {\n",
       "  color: var(--sklearn-color-text);\n",
       "  background-color: var(--sklearn-color-unfitted-level-2);\n",
       "}\n",
       "\n",
       "/* Label box, darken color on hover, fitted */\n",
       "#sk-container-id-11 div.sk-label.fitted:hover label.sk-toggleable__label.fitted {\n",
       "  color: var(--sklearn-color-text);\n",
       "  background-color: var(--sklearn-color-fitted-level-2);\n",
       "}\n",
       "\n",
       "/* Estimator label */\n",
       "\n",
       "#sk-container-id-11 div.sk-label label {\n",
       "  font-family: monospace;\n",
       "  font-weight: bold;\n",
       "  display: inline-block;\n",
       "  line-height: 1.2em;\n",
       "}\n",
       "\n",
       "#sk-container-id-11 div.sk-label-container {\n",
       "  text-align: center;\n",
       "}\n",
       "\n",
       "/* Estimator-specific */\n",
       "#sk-container-id-11 div.sk-estimator {\n",
       "  font-family: monospace;\n",
       "  border: 1px dotted var(--sklearn-color-border-box);\n",
       "  border-radius: 0.25em;\n",
       "  box-sizing: border-box;\n",
       "  margin-bottom: 0.5em;\n",
       "  /* unfitted */\n",
       "  background-color: var(--sklearn-color-unfitted-level-0);\n",
       "}\n",
       "\n",
       "#sk-container-id-11 div.sk-estimator.fitted {\n",
       "  /* fitted */\n",
       "  background-color: var(--sklearn-color-fitted-level-0);\n",
       "}\n",
       "\n",
       "/* on hover */\n",
       "#sk-container-id-11 div.sk-estimator:hover {\n",
       "  /* unfitted */\n",
       "  background-color: var(--sklearn-color-unfitted-level-2);\n",
       "}\n",
       "\n",
       "#sk-container-id-11 div.sk-estimator.fitted:hover {\n",
       "  /* fitted */\n",
       "  background-color: var(--sklearn-color-fitted-level-2);\n",
       "}\n",
       "\n",
       "/* Specification for estimator info (e.g. \"i\" and \"?\") */\n",
       "\n",
       "/* Common style for \"i\" and \"?\" */\n",
       "\n",
       ".sk-estimator-doc-link,\n",
       "a:link.sk-estimator-doc-link,\n",
       "a:visited.sk-estimator-doc-link {\n",
       "  float: right;\n",
       "  font-size: smaller;\n",
       "  line-height: 1em;\n",
       "  font-family: monospace;\n",
       "  background-color: var(--sklearn-color-background);\n",
       "  border-radius: 1em;\n",
       "  height: 1em;\n",
       "  width: 1em;\n",
       "  text-decoration: none !important;\n",
       "  margin-left: 1ex;\n",
       "  /* unfitted */\n",
       "  border: var(--sklearn-color-unfitted-level-1) 1pt solid;\n",
       "  color: var(--sklearn-color-unfitted-level-1);\n",
       "}\n",
       "\n",
       ".sk-estimator-doc-link.fitted,\n",
       "a:link.sk-estimator-doc-link.fitted,\n",
       "a:visited.sk-estimator-doc-link.fitted {\n",
       "  /* fitted */\n",
       "  border: var(--sklearn-color-fitted-level-1) 1pt solid;\n",
       "  color: var(--sklearn-color-fitted-level-1);\n",
       "}\n",
       "\n",
       "/* On hover */\n",
       "div.sk-estimator:hover .sk-estimator-doc-link:hover,\n",
       ".sk-estimator-doc-link:hover,\n",
       "div.sk-label-container:hover .sk-estimator-doc-link:hover,\n",
       ".sk-estimator-doc-link:hover {\n",
       "  /* unfitted */\n",
       "  background-color: var(--sklearn-color-unfitted-level-3);\n",
       "  color: var(--sklearn-color-background);\n",
       "  text-decoration: none;\n",
       "}\n",
       "\n",
       "div.sk-estimator.fitted:hover .sk-estimator-doc-link.fitted:hover,\n",
       ".sk-estimator-doc-link.fitted:hover,\n",
       "div.sk-label-container:hover .sk-estimator-doc-link.fitted:hover,\n",
       ".sk-estimator-doc-link.fitted:hover {\n",
       "  /* fitted */\n",
       "  background-color: var(--sklearn-color-fitted-level-3);\n",
       "  color: var(--sklearn-color-background);\n",
       "  text-decoration: none;\n",
       "}\n",
       "\n",
       "/* Span, style for the box shown on hovering the info icon */\n",
       ".sk-estimator-doc-link span {\n",
       "  display: none;\n",
       "  z-index: 9999;\n",
       "  position: relative;\n",
       "  font-weight: normal;\n",
       "  right: .2ex;\n",
       "  padding: .5ex;\n",
       "  margin: .5ex;\n",
       "  width: min-content;\n",
       "  min-width: 20ex;\n",
       "  max-width: 50ex;\n",
       "  color: var(--sklearn-color-text);\n",
       "  box-shadow: 2pt 2pt 4pt #999;\n",
       "  /* unfitted */\n",
       "  background: var(--sklearn-color-unfitted-level-0);\n",
       "  border: .5pt solid var(--sklearn-color-unfitted-level-3);\n",
       "}\n",
       "\n",
       ".sk-estimator-doc-link.fitted span {\n",
       "  /* fitted */\n",
       "  background: var(--sklearn-color-fitted-level-0);\n",
       "  border: var(--sklearn-color-fitted-level-3);\n",
       "}\n",
       "\n",
       ".sk-estimator-doc-link:hover span {\n",
       "  display: block;\n",
       "}\n",
       "\n",
       "/* \"?\"-specific style due to the `<a>` HTML tag */\n",
       "\n",
       "#sk-container-id-11 a.estimator_doc_link {\n",
       "  float: right;\n",
       "  font-size: 1rem;\n",
       "  line-height: 1em;\n",
       "  font-family: monospace;\n",
       "  background-color: var(--sklearn-color-background);\n",
       "  border-radius: 1rem;\n",
       "  height: 1rem;\n",
       "  width: 1rem;\n",
       "  text-decoration: none;\n",
       "  /* unfitted */\n",
       "  color: var(--sklearn-color-unfitted-level-1);\n",
       "  border: var(--sklearn-color-unfitted-level-1) 1pt solid;\n",
       "}\n",
       "\n",
       "#sk-container-id-11 a.estimator_doc_link.fitted {\n",
       "  /* fitted */\n",
       "  border: var(--sklearn-color-fitted-level-1) 1pt solid;\n",
       "  color: var(--sklearn-color-fitted-level-1);\n",
       "}\n",
       "\n",
       "/* On hover */\n",
       "#sk-container-id-11 a.estimator_doc_link:hover {\n",
       "  /* unfitted */\n",
       "  background-color: var(--sklearn-color-unfitted-level-3);\n",
       "  color: var(--sklearn-color-background);\n",
       "  text-decoration: none;\n",
       "}\n",
       "\n",
       "#sk-container-id-11 a.estimator_doc_link.fitted:hover {\n",
       "  /* fitted */\n",
       "  background-color: var(--sklearn-color-fitted-level-3);\n",
       "}\n",
       "</style><div id=\"sk-container-id-11\" class=\"sk-top-container\"><div class=\"sk-text-repr-fallback\"><pre>LinearRegression()</pre><b>In a Jupyter environment, please rerun this cell to show the HTML representation or trust the notebook. <br />On GitHub, the HTML representation is unable to render, please try loading this page with nbviewer.org.</b></div><div class=\"sk-container\" hidden><div class=\"sk-item\"><div class=\"sk-estimator fitted sk-toggleable\"><input class=\"sk-toggleable__control sk-hidden--visually\" id=\"sk-estimator-id-11\" type=\"checkbox\" checked><label for=\"sk-estimator-id-11\" class=\"sk-toggleable__label fitted sk-toggleable__label-arrow fitted\">&nbsp;&nbsp;LinearRegression<a class=\"sk-estimator-doc-link fitted\" rel=\"noreferrer\" target=\"_blank\" href=\"https://scikit-learn.org/1.5/modules/generated/sklearn.linear_model.LinearRegression.html\">?<span>Documentation for LinearRegression</span></a><span class=\"sk-estimator-doc-link fitted\">i<span>Fitted</span></span></label><div class=\"sk-toggleable__content fitted\"><pre>LinearRegression()</pre></div> </div></div></div></div>"
      ],
      "text/plain": [
       "LinearRegression()"
      ]
     },
     "execution_count": 505,
     "metadata": {},
     "output_type": "execute_result"
    }
   ],
   "source": [
    "model=LinearRegression()\n",
    "model.fit(X_train,y_train)"
   ]
  },
  {
   "cell_type": "code",
   "execution_count": 506,
   "id": "f002327e-564b-402b-9775-86713ff28e0d",
   "metadata": {},
   "outputs": [],
   "source": [
    "pred=model.predict(X_test)"
   ]
  },
  {
   "cell_type": "code",
   "execution_count": 507,
   "id": "1310d4da-ae36-420d-8dfb-ab693379b72f",
   "metadata": {},
   "outputs": [
    {
     "data": {
      "text/plain": [
       "np.float64(5843.873782456679)"
      ]
     },
     "execution_count": 507,
     "metadata": {},
     "output_type": "execute_result"
    }
   ],
   "source": [
    "np.sum((pred-y_test)**2)"
   ]
  }
 ],
 "metadata": {
  "kernelspec": {
   "display_name": "Python 3 (ipykernel)",
   "language": "python",
   "name": "python3"
  },
  "language_info": {
   "codemirror_mode": {
    "name": "ipython",
    "version": 3
   },
   "file_extension": ".py",
   "mimetype": "text/x-python",
   "name": "python",
   "nbconvert_exporter": "python",
   "pygments_lexer": "ipython3",
   "version": "3.11.9"
  }
 },
 "nbformat": 4,
 "nbformat_minor": 5
}
